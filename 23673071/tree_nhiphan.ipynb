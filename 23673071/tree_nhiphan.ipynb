{
 "metadata": {
  "language_info": {
   "codemirror_mode": {
    "name": "ipython",
    "version": 3
   },
   "file_extension": ".py",
   "mimetype": "text/x-python",
   "name": "python",
   "nbconvert_exporter": "python",
   "pygments_lexer": "ipython3",
   "version": "3.8.5"
  },
  "orig_nbformat": 2,
  "kernelspec": {
   "name": "python3",
   "display_name": "Python 3.8.5 64-bit ('ProgramData': virtualenv)",
   "metadata": {
    "interpreter": {
     "hash": "b3ba2566441a7c06988d0923437866b63cedc61552a5af99d1f4fb67d367b25f"
    }
   }
  }
 },
 "nbformat": 4,
 "nbformat_minor": 2,
 "cells": [
  {
   "cell_type": "code",
   "execution_count": 3,
   "metadata": {},
   "outputs": [],
   "source": [
    "class Node:\n",
    "    def __init__(self, data):\n",
    "        self.data = data\n",
    "        self.left = None\n",
    "        self.right = None\n",
    "\n",
    "    def add_node(self, number):\n",
    "        if self.data:\n",
    "            if number < self.data:\n",
    "                if self.left is None:\n",
    "                    self.left = Node(number)\n",
    "                else:\n",
    "                    self.left.add_node(number)\n",
    "            elif number > self.data:\n",
    "                if self.right is None:\n",
    "                    self.right = Node(number)\n",
    "                else:\n",
    "                    self.right.add_node(number)\n",
    "\n",
    "    def NLR(self):\n",
    "        print(self.data)\n",
    "        if self.left:\n",
    "            self.left.NLR()\n",
    "        if self.right:\n",
    "            self.right.NLR()\n",
    "\n",
    "    def LRN(self):\n",
    "        if self.left:\n",
    "            self.left.LNR()\n",
    "        print(self.data)\n",
    "        if self.right:\n",
    "            self.right.LNR()\n",
    "\n",
    "    def LNR(self):\n",
    "        if self.left:\n",
    "            self.left.LNR()\n",
    "        print(self.data)\n",
    "        if self.right:\n",
    "            self.right.LNR()\n",
    "\n",
    "    def search(self, item):\n",
    "        if item == self.data:\n",
    "            return self\n",
    "        if item < self.data:\n",
    "            return self.left.search(item)\n",
    "        if item > self.data:\n",
    "            return self.right.search(item)\n",
    "        return None\n",
    "\n",
    "    def search_chan(self):\n",
    "        ds = []\n",
    "        if self.data % 2 == 0:\n",
    "            ds.append(self.data)\n",
    "        if self.left:\n",
    "            ds.extend(self.left.search_chan())\n",
    "        if self.right:\n",
    "            ds.extend(self.right.search_chan())\n",
    "        return ds\n",
    "\n",
    "    def search_min(self):\n",
    "        if self.left is None:\n",
    "            return self.data\n",
    "        return self.left.search_min()\n",
    "\n",
    "    def search_max(self):\n",
    "        if self.right is None:\n",
    "            return self.data\n",
    "        return self.right.search_max()\n",
    "\n",
    "    def demsochan(self):\n",
    "        dem = 0\n",
    "        if self.data % 2 == 0:\n",
    "            dem += 1\n",
    "        if self.left:\n",
    "            dem += self.left.demsochan()\n",
    "        if self.right:\n",
    "            dem += self.right.demsochan()\n",
    "        return dem\n",
    "\n",
    "    def dem_nut_co_giatri(self, value):\n",
    "        dem = 0\n",
    "        if self.data == value:\n",
    "            dem += 1\n",
    "        if self.left:\n",
    "            dem += self.left.dem_nut_co_giatri(value)\n",
    "        if self.right:\n",
    "            dem += self.right.dem_nut_co_giatri(value)\n",
    "        return dem\n",
    "\n",
    "    def sum_all_value(self):\n",
    "        total = self.data\n",
    "        if self.left:\n",
    "            total += self.left.sum_all_value()\n",
    "        if self.right:\n",
    "            total += self.right.sum_all_value()\n",
    "        return total\n",
    "\n",
    "    def tree_rong(self):\n",
    "        return self is None\n",
    "\n",
    "    def nut_la(self):\n",
    "        return self.left is None and self.right is None\n",
    "\n",
    "    \n",
    "\n",
    "    def print_node(self, prefix=\"\", is_left=True):\n",
    "        if self.right:\n",
    "            self.right.print_node(prefix + (\"|  \" if is_left else \"  \"), False)\n",
    "        print(prefix + (\"|__ \" if is_left else \"  |__\"), self.data)\n",
    "        if self.left:\n",
    "            self.left.print_node(prefix + (\"  \" if is_left else \"|  \"), True)"
   ]
  },
  {
   "cell_type": "code",
   "execution_count": 5,
   "metadata": {},
   "outputs": [
    {
     "output_type": "stream",
     "name": "stdout",
     "text": [
      "|      |__ 108\n|    |__ 88\n|  |  |    |__ 71\n|  |  |__  59\n|  |    |__  55\n|__  44\n  |      |__ 40\n  |    |__ 37\n  |  |  |__  23\n  |__  18\n    |    |__ 15\n    |__  13\n"
     ]
    }
   ],
   "source": [
    "node44 = Node(44)\n",
    "node44.add_node(18)\n",
    "node44.add_node(88)\n",
    "node44.add_node(18)\n",
    "node44.add_node(13)\n",
    "node44.add_node(37)\n",
    "node44.add_node(15)\n",
    "node44.add_node(23)\n",
    "node44.add_node(40)\n",
    "node44.add_node(59)\n",
    "node44.add_node(108)\n",
    "node44.add_node(55)\n",
    "node44.add_node(71)\n",
    "\n",
    "node44.print_node()"
   ]
  },
  {
   "cell_type": "code",
   "execution_count": 6,
   "metadata": {},
   "outputs": [
    {
     "output_type": "execute_result",
     "data": {
      "text/plain": [
       "[44, 18, 40, 88, 108]"
      ]
     },
     "metadata": {},
     "execution_count": 6
    }
   ],
   "source": [
    "node44.search_chan()"
   ]
  },
  {
   "cell_type": "code",
   "execution_count": 7,
   "metadata": {},
   "outputs": [
    {
     "output_type": "execute_result",
     "data": {
      "text/plain": [
       "13"
      ]
     },
     "metadata": {},
     "execution_count": 7
    }
   ],
   "source": [
    "node44.search_min()\n"
   ]
  },
  {
   "cell_type": "code",
   "execution_count": 8,
   "metadata": {},
   "outputs": [
    {
     "output_type": "execute_result",
     "data": {
      "text/plain": [
       "108"
      ]
     },
     "metadata": {},
     "execution_count": 8
    }
   ],
   "source": [
    "node44.search_max()\n"
   ]
  },
  {
   "cell_type": "code",
   "execution_count": 9,
   "metadata": {},
   "outputs": [
    {
     "output_type": "execute_result",
     "data": {
      "text/plain": [
       "5"
      ]
     },
     "metadata": {},
     "execution_count": 9
    }
   ],
   "source": [
    "node44.demsochan()"
   ]
  },
  {
   "cell_type": "code",
   "execution_count": 11,
   "metadata": {},
   "outputs": [
    {
     "output_type": "execute_result",
     "data": {
      "text/plain": [
       "1"
      ]
     },
     "metadata": {},
     "execution_count": 11
    }
   ],
   "source": [
    "node44.dem_nut_co_giatri(18)"
   ]
  },
  {
   "cell_type": "code",
   "execution_count": 12,
   "metadata": {},
   "outputs": [
    {
     "output_type": "execute_result",
     "data": {
      "text/plain": [
       "571"
      ]
     },
     "metadata": {},
     "execution_count": 12
    }
   ],
   "source": [
    "node44.sum_all_value()"
   ]
  },
  {
   "cell_type": "code",
   "execution_count": null,
   "metadata": {},
   "outputs": [],
   "source": []
  }
 ]
}