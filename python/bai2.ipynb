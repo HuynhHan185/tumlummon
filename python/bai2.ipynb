{
 "cells": [
  {
   "cell_type": "code",
   "execution_count": null,
   "metadata": {},
   "outputs": [],
   "source": [
    "class Node:\n",
    "    def __init__(self, data):\n",
    "        self.data = data\n",
    "        self.left = None\n",
    "        self.right = None\n",
    "\n",
    "    def create_node():\n",
    "        node = Node(44)\n",
    "    \n",
    "        node.left = Node(18)\n",
    "        node.right = Node(88)\n",
    "    \n",
    "        node.left.left = Node(13)\n",
    "        node.left.right = Node(37)\n",
    "        node.left.left.right = Node(15)\n",
    "        node.left.right.left = Node(23)\n",
    "        node.left.right.right = Node(40)\n",
    "    \n",
    "        node.right.left = Node(59)\n",
    "        node.right.right = Node(108)\n",
    "        node.right.left.left = Node(55)\n",
    "        node.right.left.right = Node(71)\n",
    "\n",
    "        return node\n",
    "\n",
    "    def SumTree(self):\n",
    "        total = self.data\n",
    "        if self.left:\n",
    "            total += self.left.SumTree()\n",
    "        if self.right:\n",
    "            total += self.right.SumTree()\n",
    "        return total\n",
    "    \n",
    "    def search_min(self):\n",
    "        if self.left is None:\n",
    "            return self.data\n",
    "        return self.left.search_min()\n",
    "    \n",
    "    def search_max(self):\n",
    "        if self.right is None:\n",
    "            return self.data\n",
    "        return self.right.search_max()\n",
    "    \n",
    "    def dem_soluong_node(self):\n",
    "        return 1 + ((self.left.dem_soluong_node() if self.left else 0) + \n",
    "                    (self.right.dem_soluong_node() if self.right else 0))\n",
    "    \n",
    "    def dem_nut_la(self):\n",
    "        if self.left is None and self.right is None:\n",
    "            return 1\n",
    "        left_count = self.left.dem_nut_la() if self.left else 0\n",
    "        right_count = self.right.dem_nut_la() if self.right else 0\n",
    "        return left_count + right_count\n",
    "    \n",
    "    def print_node(self, prefix=\"\", is_left=True):\n",
    "        if self.right:\n",
    "            self.right.print_node(prefix + (\"|  \" if is_left else \"  \"), False)\n",
    "        print(prefix + (\"|__ \" if is_left else \"  |__\"), self.data)\n",
    "        if self.left:\n",
    "            self.left.print_node(prefix + (\"  \" if is_left else \"|  \"), True)"
   ]
  },
  {
   "cell_type": "code",
   "execution_count": 45,
   "metadata": {},
   "outputs": [
    {
     "name": "stdout",
     "output_type": "stream",
     "text": [
      "|      |__ 108\n",
      "|    |__ 88\n",
      "|  |  |    |__ 71\n",
      "|  |  |__  59\n",
      "|  |    |__  55\n",
      "|__  44\n",
      "  |      |__ 40\n",
      "  |    |__ 37\n",
      "  |  |  |__  23\n",
      "  |__  18\n",
      "    |    |__ 15\n",
      "    |__  13\n"
     ]
    }
   ],
   "source": [
    "tree = Node.create_node()\n",
    "tree.print_node()"
   ]
  },
  {
   "cell_type": "code",
   "execution_count": 46,
   "metadata": {},
   "outputs": [
    {
     "data": {
      "text/plain": [
       "571"
      ]
     },
     "execution_count": 46,
     "metadata": {},
     "output_type": "execute_result"
    }
   ],
   "source": [
    "tree.SumTree()"
   ]
  },
  {
   "cell_type": "code",
   "execution_count": 47,
   "metadata": {},
   "outputs": [
    {
     "data": {
      "text/plain": [
       "13"
      ]
     },
     "execution_count": 47,
     "metadata": {},
     "output_type": "execute_result"
    }
   ],
   "source": [
    "tree.search_min()"
   ]
  },
  {
   "cell_type": "code",
   "execution_count": 48,
   "metadata": {},
   "outputs": [
    {
     "data": {
      "text/plain": [
       "108"
      ]
     },
     "execution_count": 48,
     "metadata": {},
     "output_type": "execute_result"
    }
   ],
   "source": [
    "tree.search_max()"
   ]
  },
  {
   "cell_type": "code",
   "execution_count": 49,
   "metadata": {},
   "outputs": [
    {
     "data": {
      "text/plain": [
       "12"
      ]
     },
     "execution_count": 49,
     "metadata": {},
     "output_type": "execute_result"
    }
   ],
   "source": [
    "tree.dem_soluong_node()"
   ]
  },
  {
   "cell_type": "code",
   "execution_count": 50,
   "metadata": {},
   "outputs": [
    {
     "data": {
      "text/plain": [
       "6"
      ]
     },
     "execution_count": 50,
     "metadata": {},
     "output_type": "execute_result"
    }
   ],
   "source": [
    "tree.dem_nut_la()"
   ]
  }
 ],
 "metadata": {
  "kernelspec": {
   "display_name": "Python 3",
   "language": "python",
   "name": "python3"
  },
  "language_info": {
   "codemirror_mode": {
    "name": "ipython",
    "version": 3
   },
   "file_extension": ".py",
   "mimetype": "text/x-python",
   "name": "python",
   "nbconvert_exporter": "python",
   "pygments_lexer": "ipython3",
   "version": "3.13.2"
  }
 },
 "nbformat": 4,
 "nbformat_minor": 2
}
