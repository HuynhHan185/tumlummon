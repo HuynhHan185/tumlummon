{
 "cells": [
  {
   "cell_type": "code",
   "execution_count": 5,
   "metadata": {},
   "outputs": [],
   "source": [
    "class Tree:\n",
    "    def __init__(self, data):\n",
    "        self.data = data\n",
    "        self.ds = []\n",
    "    \n",
    "    def add_children(self, child):\n",
    "        self.ds.append(child)\n",
    "\n",
    "    def print_tree(self, level = 0):\n",
    "        intent = \" \" * level\n",
    "        print(f\"{intent} |__ {self.data}\")\n",
    "\n",
    "        for i in self.ds:\n",
    "            i.print_tree(level+1)"
   ]
  },
  {
   "cell_type": "code",
   "execution_count": 8,
   "metadata": {},
   "outputs": [
    {
     "name": "stdout",
     "output_type": "stream",
     "text": [
      " |__ R\n",
      "  |__ A\n",
      "   |__ D\n",
      "   |__ E\n",
      "  |__ B\n",
      "   |__ F\n",
      "  |__ C\n"
     ]
    }
   ],
   "source": [
    "t = Tree(\"R\")\n",
    "\n",
    "child1 = Tree(\"A\")\n",
    "child2 = Tree(\"B\")\n",
    "child3 = Tree(\"C\")\n",
    "\n",
    "t.add_children(child1)\n",
    "t.add_children(child2)\n",
    "t.add_children(child3)\n",
    "\n",
    "node1 = Tree(\"D\")\n",
    "node2 = Tree(\"E\")\n",
    "node3 = Tree(\"F\")\n",
    "\n",
    "child1.add_children(node1)\n",
    "child1.add_children(node2)\n",
    "\n",
    "child2.add_children(node3)\n",
    "\n",
    "t.print_tree()\n"
   ]
  },
  {
   "cell_type": "code",
   "execution_count": null,
   "metadata": {},
   "outputs": [],
   "source": [
    "class Node: #binary\n",
    "    def __init__(self, data):\n",
    "        self.data = data\n",
    "        self.left = None\n",
    "        self.right = None\n",
    "\n",
    "    def insert_tree(self, number):\n",
    "        if self.data:\n",
    "            if number < self.data:\n",
    "                if self.left is None:\n",
    "                    self.left = Node(number)\n",
    "                else:\n",
    "                    self.left.insert_tree(number)\n",
    "            elif number > self.data:\n",
    "                if self.right is None:\n",
    "                    self.right = Node(number)\n",
    "                else:\n",
    "                    self.right.insert_tree(number)\n",
    "\n",
    "    def LNR(self): #trung tu\n",
    "        if self.left:\n",
    "            self.left.LNR()\n",
    "        print(self.data)\n",
    "        if self.right:\n",
    "            self.right.LNR()\n",
    "\n",
    "    def NLR(self): #tien tu\n",
    "        print(self.data)\n",
    "        if self.left:\n",
    "            self.left.NLR()\n",
    "        if self.right:\n",
    "            self.right.NLR()\n",
    "\n",
    "    def LRN(self): #hau tu\n",
    "        if self.left:\n",
    "            self.left.LRN()\n",
    "        if self.right:\n",
    "            self.right.LRN()\n",
    "        print(self.data)\n",
    "\n",
    "    def search(self, item):\n",
    "        if self.data == item:\n",
    "            return self\n",
    "        if item < self.left:\n",
    "            return self.left.search(item)\n",
    "        if item < self.right:\n",
    "            return self.right.search(item)\n",
    "        \n",
    "    def search_chan(self):\n",
    "        ds = []\n",
    "        if self.data % 2 == 0:\n",
    "            ds.append(self.data)\n",
    "        if self.left:\n",
    "            ds.extend(self.left.search_chan())\n",
    "        if self.right:\n",
    "            ds.extend(self.right.search_chan())\n",
    "        return ds\n",
    "    \n",
    "    def search_min(self):\n",
    "        if self.left is None:\n",
    "            return self.data\n",
    "        return self.left.search_min()\n",
    "    \n",
    "    def search_max(self):\n",
    "        if self.right is None:\n",
    "            return self.data\n",
    "        return self.right.search_max()\n",
    "    \n",
    "    def demsochan(self):\n",
    "        dem = 0\n",
    "        if self.data % 2 == 0:\n",
    "            dem += 1\n",
    "        if self.left:\n",
    "            dem += self.left.demsochan()\n",
    "        if self.right:\n",
    "            dem += self.right.demsochan()\n",
    "        return dem\n",
    "    \n",
    "    def dem_nut_co_giatri(self, value):\n",
    "        dem = 0\n",
    "        if self.data == value:\n",
    "            dem += 1\n",
    "        if self.left:\n",
    "            dem += self.left.dem_nut_co_giatri(value)\n",
    "        if self.right:\n",
    "            dem += self.right.dem_nut_co_giatri(value)\n",
    "        return dem\n",
    "    \n",
    "    def sum_all_value(self):\n",
    "        total = self.data\n",
    "        if self.left:\n",
    "            total += self.left.sum_all_value()\n",
    "        if self.right:\n",
    "            total += self.right.sum_all_value()\n",
    "        return total\n",
    "    \n",
    "\n",
    "    def print_node(self, prefix=\"\", is_left=True):\n",
    "        if self.right:\n",
    "            self.right.print_node(prefix + (\"|  \" if is_left else \"  \"), False)\n",
    "        print(prefix + (\"|__ \" if is_left else \"  |__\"), self.data)\n",
    "        if self.left:\n",
    "            self.left.print_node(prefix + (\"  \" if is_left else \"|  \"), True)\n"
   ]
  },
  {
   "cell_type": "code",
   "execution_count": 36,
   "metadata": {},
   "outputs": [
    {
     "name": "stdout",
     "output_type": "stream",
     "text": [
      "2\n",
      "3\n",
      "5\n",
      "10\n",
      "12\n",
      "15\n",
      "18\n"
     ]
    }
   ],
   "source": [
    "node_root = Node(12)\n",
    "node_root.insert_tree(10)\n",
    "node_root.insert_tree(15)\n",
    "node_root.insert_tree(2)\n",
    "node_root.insert_tree(18)\n",
    "node_root.insert_tree(3)\n",
    "node_root.insert_tree(5)\n",
    "\n",
    "node_root.LNR()\n"
   ]
  },
  {
   "cell_type": "code",
   "execution_count": 37,
   "metadata": {},
   "outputs": [
    {
     "name": "stdout",
     "output_type": "stream",
     "text": [
      "12\n",
      "10\n",
      "2\n",
      "3\n",
      "5\n",
      "15\n",
      "18\n"
     ]
    }
   ],
   "source": [
    "node_root.NLR()"
   ]
  },
  {
   "cell_type": "code",
   "execution_count": 38,
   "metadata": {},
   "outputs": [
    {
     "name": "stdout",
     "output_type": "stream",
     "text": [
      "5\n",
      "3\n",
      "2\n",
      "10\n",
      "18\n",
      "15\n",
      "12\n"
     ]
    }
   ],
   "source": [
    "node_root.LRN()"
   ]
  },
  {
   "cell_type": "code",
   "execution_count": 39,
   "metadata": {},
   "outputs": [
    {
     "name": "stdout",
     "output_type": "stream",
     "text": [
      "|      |__ 18\n",
      "|    |__ 15\n",
      "|__  12\n",
      "  |__  10\n",
      "    |      |__ 5\n",
      "    |    |__ 3\n",
      "    |__  2\n"
     ]
    }
   ],
   "source": [
    "node_root.print_node()"
   ]
  },
  {
   "cell_type": "code",
   "execution_count": null,
   "metadata": {},
   "outputs": [],
   "source": []
  }
 ],
 "metadata": {
  "kernelspec": {
   "display_name": "Python 3.8.5 64-bit ('ProgramData': virtualenv)",
   "metadata": {
    "interpreter": {
     "hash": "b3ba2566441a7c06988d0923437866b63cedc61552a5af99d1f4fb67d367b25f"
    }
   },
   "name": "python3"
  },
  "language_info": {
   "codemirror_mode": {
    "name": "ipython",
    "version": 3
   },
   "file_extension": ".py",
   "mimetype": "text/x-python",
   "name": "python",
   "nbconvert_exporter": "python",
   "pygments_lexer": "ipython3",
   "version": "3.8.5"
  },
  "orig_nbformat": 2
 },
 "nbformat": 4,
 "nbformat_minor": 2
}
