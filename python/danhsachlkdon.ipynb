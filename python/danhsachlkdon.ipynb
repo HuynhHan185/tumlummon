{
 "cells": [
  {
   "cell_type": "code",
   "execution_count": 9,
   "metadata": {},
   "outputs": [],
   "source": [
    "class Node:\n",
    "    def __init__(self, data):\n",
    "        self.data = data\n",
    "        self.next = None"
   ]
  },
  {
   "cell_type": "code",
   "execution_count": 26,
   "metadata": {},
   "outputs": [],
   "source": [
    "class LinkedList:\n",
    "    def __init__(self):\n",
    "        self.head = None\n",
    "\n",
    "    def is_empty(self):\n",
    "        return self.head is None\n",
    "    \n",
    "    def append(self, data):\n",
    "        new_node = Node(data)\n",
    "\n",
    "        if self.is_empty():\n",
    "            self.head = new_node\n",
    "            return\n",
    "        current = self.head\n",
    "\n",
    "        while current.next:\n",
    "            current = current.next\n",
    "            \n",
    "        current.next = new_node\n",
    "\n",
    "    def pre_append(self, data):\n",
    "        new_node = Node(data)\n",
    "        new_node.next = self.head\n",
    "        self.head = new_node\n",
    "\n",
    "    def after_append(self, prev_node, data):\n",
    "        new_node = Node(data)\n",
    "\n",
    "        prev_node.next = new_node.next\n",
    "        prev_node.next = new_node\n",
    "\n",
    "    def search(self, data):\n",
    "        current = self.head\n",
    "        while current:\n",
    "            if current.data == data:\n",
    "                return True\n",
    "            current = current.next\n",
    "        return False\n",
    "\n",
    "    def show(self):\n",
    "        arr = []\n",
    "        current = self.head\n",
    "\n",
    "        while current:\n",
    "            arr.append(current.data)\n",
    "            current = current.next\n",
    "        print(\" -> \".join(map(str, arr)))"
   ]
  },
  {
   "cell_type": "code",
   "execution_count": 29,
   "metadata": {},
   "outputs": [
    {
     "name": "stdout",
     "output_type": "stream",
     "text": [
      "2 -> 4 -> 5\n"
     ]
    },
    {
     "data": {
      "text/plain": [
       "<bound method LinkedList.show of <__main__.LinkedList object at 0x000001D04B71CCD0>>"
      ]
     },
     "execution_count": 29,
     "metadata": {},
     "output_type": "execute_result"
    }
   ],
   "source": [
    "ds = LinkedList()\n",
    "ds.append(2)\n",
    "ds.append(4)\n",
    "ds.append(5)\n",
    "ds.show()\n",
    "ds.pre_append(5)\n",
    "ds.show"
   ]
  },
  {
   "cell_type": "code",
   "execution_count": 28,
   "metadata": {},
   "outputs": [
    {
     "name": "stdout",
     "output_type": "stream",
     "text": [
      "False\n"
     ]
    }
   ],
   "source": [
    "print(ds.search(10))"
   ]
  }
 ],
 "metadata": {
  "kernelspec": {
   "display_name": "Python 3",
   "language": "python",
   "name": "python3"
  },
  "language_info": {
   "codemirror_mode": {
    "name": "ipython",
    "version": 3
   },
   "file_extension": ".py",
   "mimetype": "text/x-python",
   "name": "python",
   "nbconvert_exporter": "python",
   "pygments_lexer": "ipython3",
   "version": "3.13.2"
  }
 },
 "nbformat": 4,
 "nbformat_minor": 2
}
