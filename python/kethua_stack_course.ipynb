{
 "cells": [
  {
   "cell_type": "code",
   "execution_count": 1,
   "metadata": {},
   "outputs": [],
   "source": [
    "class Course:\n",
    "    def __init__(self, id, name, base_price, duration_week):\n",
    "        self.id = id\n",
    "        self.name = name\n",
    "        self.base_price = base_price\n",
    "        self.duration_week = duration_week\n",
    "    \n",
    "    def __str__(self):\n",
    "        return f\"ID: {self.id}, Name: {self.name}, Base Price: {self.base_price}, Duration: {self.duration_week} weeks\"\n",
    "    \n",
    "    def calculate_price(self):\n",
    "        return self.base_price\n",
    "    \n",
    "    def __repr__(self):\n",
    "        return self.__str__()"
   ]
  },
  {
   "cell_type": "code",
   "execution_count": 3,
   "metadata": {},
   "outputs": [],
   "source": [
    "class CertificateCourse(Course):\n",
    "    def __init__(self, id, name, base_price, duration_week, certification_body, certification_level, exam_fee):\n",
    "        super().__init__(id, name, base_price, duration_week)\n",
    "        self.certification_body = certification_body\n",
    "        self.certification_level = certification_level\n",
    "        self.exam_fee = exam_fee\n",
    "    \n",
    "    def __str__(self):\n",
    "        return (super().__str__() + \n",
    "                f\", Certification Body: {self.certification_body}, Level: {self.certification_level}, Exam Fee: {self.exam_fee}\")\n",
    "    \n",
    "    def calculate_price(self):\n",
    "        bonus = 500000 if self.certification_level.lower() == \"advanced\" else 200000\n",
    "        return self.base_price + self.exam_fee + bonus\n",
    "    \n",
    "    def __repr__(self):\n",
    "        return self.__str__()"
   ]
  },
  {
   "cell_type": "code",
   "execution_count": 4,
   "metadata": {},
   "outputs": [],
   "source": [
    "class SpecializeCourse(Course):\n",
    "    def __init__(self, id, name, base_price, duration_week, field, required_prerequisites):\n",
    "        super().__init__(id, name, base_price, duration_week)\n",
    "        self.field = field\n",
    "        self.required_prerequisites = required_prerequisites\n",
    "    \n",
    "    def __str__(self):\n",
    "        return (super().__str__() + \n",
    "                f\", Field: {self.field}, Prerequisites: {self.required_prerequisites}\")\n",
    "    \n",
    "    def calculate_price(self):\n",
    "        field_bonus = {\"AI\": 1000000, \"Cybersecurity\": 800000}\n",
    "        return self.base_price + field_bonus.get(self.field, 500000)\n",
    "    \n",
    "    def __repr__(self):\n",
    "        return self.__str__()"
   ]
  },
  {
   "cell_type": "code",
   "execution_count": 8,
   "metadata": {},
   "outputs": [],
   "source": [
    "class Stack_Course:\n",
    "    def __init__(self):\n",
    "        self.stack = []\n",
    "\n",
    "    def is_empty(self):\n",
    "        return len(self.stack) == 0\n",
    "\n",
    "    def __len__(self):\n",
    "        return len(self.stack)\n",
    "\n",
    "    def __str__(self):\n",
    "        if self.is_empty():\n",
    "            return \"Stack_Course is empty\"\n",
    "        else:\n",
    "            return str(self.stack)\n",
    "\n",
    "    def push(self, course):\n",
    "        self.stack.append(course)\n",
    "\n",
    "    def pop(self):\n",
    "        if self.is_empty():\n",
    "            return \"Stack_Course is empty\"\n",
    "        else:\n",
    "            return self.stack.pop()"
   ]
  },
  {
   "cell_type": "code",
   "execution_count": 19,
   "metadata": {},
   "outputs": [],
   "source": [
    "class CourseManagement:\n",
    "    def __init__(self):\n",
    "        self.ds = Stack_Course()\n",
    "    \n",
    "    def add_course(self, course):\n",
    "        self.ds.stack.append(course)\n",
    "    \n",
    "    def display(self):\n",
    "        for course in self.ds.stack:\n",
    "            print(course)\n",
    "    \n",
    "    def find_courses_by_certification_body(self, body):\n",
    "        return [c for c in self.ds.stack if isinstance(c, CertificateCourse) and c.certification_body == body]\n",
    "    \n",
    "    def find_courses_by_field(self, field):\n",
    "        return [c for c in self.ds.stack if isinstance(c, SpecializeCourse) and c.field == field]\n",
    "    \n",
    "    def update_course(self):\n",
    "        id = input(\"Nhập ID khóa học cần cập nhật: \")\n",
    "        for course in self.ds.stack:\n",
    "            if str(course.id) == id:\n",
    "                name = input(\"Nhập tên mới (Enter để giữ nguyên): \")\n",
    "                base_price = input(\"Nhập giá cơ bản mới (Enter để giữ nguyên): \")\n",
    "                duration_week = input(\"Nhập thời gian học mới (Enter để giữ nguyên): \")\n",
    "                \n",
    "                if name: course.name = name\n",
    "                if base_price: course.base_price = float(base_price)\n",
    "                if duration_week: course.duration_week = int(duration_week)\n",
    "                \n",
    "                print(\"Cập nhật thành công\")\n",
    "                return\n",
    "        print(\"Không tìm thấy khóa học\")\n",
    "    \n",
    "    def sort_courses_by_bubble_sort(self):\n",
    "        n = len(self.ds.stack)\n",
    "        for i in range(n - 1):\n",
    "            for j in range(n - 1 - i):\n",
    "                if self.ds.stack[j].calculate_price() > self.ds.stack[j + 1].calculate_price():\n",
    "                    self.ds.stack[j], self.ds.stack[j + 1] = self.ds.stack[j + 1], self.ds.stack[j]\n",
    "        print(\"Đã sắp xếp theo giá tiền\")"
   ]
  },
  {
   "cell_type": "code",
   "execution_count": 20,
   "metadata": {},
   "outputs": [],
   "source": [
    "kh = CourseManagement()"
   ]
  },
  {
   "cell_type": "code",
   "execution_count": 21,
   "metadata": {},
   "outputs": [],
   "source": [
    "kh1 = Course(1, \"Lap trinh Python\", 4000000, 12)\n",
    "kh2 = Course(2, \"Lap trinh C\", 4500000, 16)\n",
    "kh3 = CertificateCourse(3, \"Web\", 5000000, 20, \"abc\", \"basic\", 300000) \n",
    "kh4 = SpecializeCourse(4, \"AI Code\", 55000000, 24, \"AI\", \"Python\")\n",
    "kh.ds.push(kh1)\n",
    "kh.ds.push(kh2)\n",
    "kh.ds.push(kh3)\n",
    "kh.ds.push(kh4)"
   ]
  },
  {
   "cell_type": "code",
   "execution_count": 22,
   "metadata": {},
   "outputs": [
    {
     "name": "stdout",
     "output_type": "stream",
     "text": [
      "ID: 1, Name: Lap trinh Python, Base Price: 4000000, Duration: 12 weeks\n",
      "ID: 2, Name: Lap trinh C, Base Price: 4500000, Duration: 16 weeks\n",
      "ID: 3, Name: Web, Base Price: 5000000, Duration: 20 weeks, Certification Body: abc, Level: basic, Exam Fee: 300000\n",
      "ID: 4, Name: AI Code, Base Price: 55000000, Duration: 24 weeks, Field: AI, Prerequisites: Python\n"
     ]
    }
   ],
   "source": [
    "kh.display()"
   ]
  },
  {
   "cell_type": "code",
   "execution_count": 23,
   "metadata": {},
   "outputs": [
    {
     "name": "stdout",
     "output_type": "stream",
     "text": [
      "[ID: 3, Name: Web, Base Price: 5000000, Duration: 20 weeks, Certification Body: abc, Level: basic, Exam Fee: 300000]\n"
     ]
    }
   ],
   "source": [
    "print(kh.find_courses_by_certification_body(\"abc\"))"
   ]
  },
  {
   "cell_type": "code",
   "execution_count": 24,
   "metadata": {},
   "outputs": [
    {
     "name": "stdout",
     "output_type": "stream",
     "text": [
      "[ID: 4, Name: AI Code, Base Price: 55000000, Duration: 24 weeks, Field: AI, Prerequisites: Python]\n"
     ]
    }
   ],
   "source": [
    "print(kh.find_courses_by_field(\"AI\"))"
   ]
  },
  {
   "cell_type": "code",
   "execution_count": 26,
   "metadata": {},
   "outputs": [
    {
     "name": "stdout",
     "output_type": "stream",
     "text": [
      "Cập nhật thành công\n",
      "ID: 1, Name: Lap trinh Python, Base Price: 4000000, Duration: 12 weeks\n",
      "ID: 2, Name: Lap trinh C, Base Price: 4500000, Duration: 16 weeks\n",
      "ID: 3, Name: Web, Base Price: 5000000, Duration: 20 weeks, Certification Body: abc, Level: basic, Exam Fee: 300000\n",
      "ID: 4, Name: AI Code, Base Price: 55000000, Duration: 20 weeks, Field: AI, Prerequisites: Python\n"
     ]
    }
   ],
   "source": [
    "kh.update_course()\n",
    "kh.display()"
   ]
  },
  {
   "cell_type": "code",
   "execution_count": 27,
   "metadata": {},
   "outputs": [
    {
     "name": "stdout",
     "output_type": "stream",
     "text": [
      "Đã sắp xếp theo giá tiền\n",
      "ID: 1, Name: Lap trinh Python, Base Price: 4000000, Duration: 12 weeks\n",
      "ID: 2, Name: Lap trinh C, Base Price: 4500000, Duration: 16 weeks\n",
      "ID: 3, Name: Web, Base Price: 5000000, Duration: 20 weeks, Certification Body: abc, Level: basic, Exam Fee: 300000\n",
      "ID: 4, Name: AI Code, Base Price: 55000000, Duration: 20 weeks, Field: AI, Prerequisites: Python\n"
     ]
    }
   ],
   "source": [
    "kh.sort_courses_by_bubble_sort()\n",
    "kh.display()"
   ]
  }
 ],
 "metadata": {
  "kernelspec": {
   "display_name": "Python 3",
   "language": "python",
   "name": "python3"
  },
  "language_info": {
   "codemirror_mode": {
    "name": "ipython",
    "version": 3
   },
   "file_extension": ".py",
   "mimetype": "text/x-python",
   "name": "python",
   "nbconvert_exporter": "python",
   "pygments_lexer": "ipython3",
   "version": "3.13.2"
  }
 },
 "nbformat": 4,
 "nbformat_minor": 2
}
