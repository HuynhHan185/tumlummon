{
  "nbformat": 4,
  "nbformat_minor": 0,
  "metadata": {
    "colab": {
      "provenance": []
    },
    "kernelspec": {
      "name": "python3",
      "display_name": "Python 3"
    },
    "language_info": {
      "name": "python"
    }
  },
  "cells": [
    {
      "cell_type": "code",
      "execution_count": null,
      "metadata": {
        "colab": {
          "base_uri": "https://localhost:8080/"
        },
        "id": "HlLmKxz-Opdj",
        "outputId": "5ce40f9d-c2fc-414a-aea7-c4c92f8ba932"
      },
      "outputs": [
        {
          "output_type": "stream",
          "name": "stdout",
          "text": [
            "Nhập số thứ 1: 3\n",
            "Nhập số thứ 2: 6\n",
            "Nhập số thứ 3: 9\n",
            "Trung bình của 3 số là:  6.0\n"
          ]
        }
      ],
      "source": [
        "#1. Viết chương trình nhập vào 3 số tính trung bình\n",
        "so1 = float(input(\"Nhập số thứ 1: \"))\n",
        "so2 = float(input(\"Nhập số thứ 2: \"))\n",
        "so3 = float(input(\"Nhập số thứ 3: \"))\n",
        "\n",
        "tb = (so1 + so2 + so3) / 3\n",
        "print(\"Trung bình của 3 số là: \", tb)"
      ]
    },
    {
      "cell_type": "code",
      "source": [
        "#2. Cho phép người dùng nhập vào danh sách phần tử.\n",
        "my_list = list(map(int, input(\"Nhap danh sach phan tu: \").split()))\n",
        "print(\"Danh sach phan tu la: \", my_list)\n",
        "#Viết chương trình in ra các số nguyên tố\n",
        "def snt(n):\n",
        " if n < 2:\n",
        "  return False\n",
        " for i in range(2, n):\n",
        "  if n % i == 0:\n",
        "   return False\n",
        " return True\n",
        "\n",
        "print(\"Cac so nguyen to trong danh sach la: \")\n",
        "for x in my_list:\n",
        "  if snt(x):\n",
        "    print(x)"
      ],
      "metadata": {
        "id": "MCS7dHQ_URus",
        "colab": {
          "base_uri": "https://localhost:8080/"
        },
        "outputId": "247b0e68-0857-48fe-e96f-8ad29400ecc9"
      },
      "execution_count": null,
      "outputs": [
        {
          "output_type": "stream",
          "name": "stdout",
          "text": [
            "Nhap danh sach phan tu: 3 2 5 8 9 7 6\n",
            "Danh sach phan tu la:  [3, 2, 5, 8, 9, 7, 6]\n",
            "Cac so nguyen to trong danh sach la: \n",
            "3\n",
            "2\n",
            "5\n",
            "7\n"
          ]
        }
      ]
    },
    {
      "cell_type": "code",
      "source": [
        "#3.Cho danh sách my_lst = [1,3,5,7,8,9,2,4].\n",
        "#Viết chương trình in ra các số chính phương\n",
        "my_lst = [1,3,5,7,8,9,2,4]\n",
        "số_chính_phương = []\n",
        "\n",
        "for x in my_lst:\n",
        "    if int(x**0.5)**2 == x:\n",
        "        số_chính_phương.append(x)\n",
        "print(\"Các số chính phương trong danh sách là:\", số_chính_phương)"
      ],
      "metadata": {
        "colab": {
          "base_uri": "https://localhost:8080/"
        },
        "id": "uteWJs4SUldE",
        "outputId": "a649d6ae-9070-41b4-ddc3-865608e4ef88"
      },
      "execution_count": null,
      "outputs": [
        {
          "output_type": "stream",
          "name": "stdout",
          "text": [
            "Các số chính phương trong danh sách là: [1, 9, 4]\n"
          ]
        }
      ]
    },
    {
      "cell_type": "code",
      "source": [
        "#4. Viết chương trình đảo ngược 1 chuỗi.\n",
        "chuỗi = input(\"Nhập chuỗi: \")\n",
        "\n",
        "#đảo chuỗi\n",
        "chuỗi_str = chuỗi[::-1]\n",
        "\n",
        "print(\"Chuỗi sau khi đảo ngược:\", chuỗi_str)"
      ],
      "metadata": {
        "colab": {
          "base_uri": "https://localhost:8080/"
        },
        "id": "UHjqrkj9YfZI",
        "outputId": "c3262f10-53bf-43ed-e636-f3f964aabfc4"
      },
      "execution_count": null,
      "outputs": [
        {
          "output_type": "stream",
          "name": "stdout",
          "text": [
            "Nhập chuỗi: dương\n",
            "Chuỗi sau khi đảo ngược: gnơưd\n"
          ]
        }
      ]
    },
    {
      "cell_type": "code",
      "source": [
        "#5. Viết chương trình tìm 2 số bé nhất trong danh sách\n",
        "my_list = [1,4,9,6,0,5,7]\n",
        "my_list.sort()\n",
        "print(\"2 số bé nhất trong danh sách là:\", my_list[0], my_list[1])\n"
      ],
      "metadata": {
        "colab": {
          "base_uri": "https://localhost:8080/"
        },
        "id": "fLQJqci5bZfB",
        "outputId": "e2928c5e-cf14-419f-94e3-d0db8e6521ca"
      },
      "execution_count": null,
      "outputs": [
        {
          "output_type": "stream",
          "name": "stdout",
          "text": [
            "2 số bé nhất trong danh sách là: 0 1\n"
          ]
        }
      ]
    },
    {
      "cell_type": "code",
      "source": [
        "#6. Viết chương trình tìm vị trí số lớn nhất trong danh sách và kèm theo số lượng\n",
        "my_list = [2,4,8,1,7,3]\n",
        "sln = max(my_list)\n",
        "print(\"Vi tri so lon nhat: \", my_list.index(sln))\n",
        "print(\"So luong: \", my_list.count(sln))"
      ],
      "metadata": {
        "id": "Nu_3tVoUc51n",
        "colab": {
          "base_uri": "https://localhost:8080/"
        },
        "outputId": "040cba04-e439-49ed-ebe9-8fc551a935da"
      },
      "execution_count": null,
      "outputs": [
        {
          "output_type": "stream",
          "name": "stdout",
          "text": [
            "Vi tri so lon nhat:  2\n",
            "So luong:  1\n"
          ]
        }
      ]
    },
    {
      "cell_type": "code",
      "source": [
        "#7. Viết chương trình đọc vào file txt và hiển thị nội dung trong file\n",
        "read_file = open(\"test.txt\", \"r\")\n",
        "print(read_file.read())"
      ],
      "metadata": {
        "id": "yhYWsWdR98Js"
      },
      "execution_count": null,
      "outputs": []
    },
    {
      "cell_type": "code",
      "source": [
        "#8. Viết chương trình cho phép người dùng nhập thông tin sinh viên (họ tên, tuổi, điểm)\n",
        "#và ghi vào file text. Mỗi sinh viên ghi trên một dòng\n",
        "def ghi_thong_tin_sinh_vien():\n",
        "  with open(\"sinh_vien.txt\", \"a\") as file:\n",
        "    ho_ten = input(\"Nhap ho va ten: \")\n",
        "    tuoi = input(\"Nhap tuoi: \")\n",
        "    diem = input(\"Nhap diem: \")\n",
        "    thong_tin = f\"{ho_ten}, {tuoi}, {diem}\\n\"\n",
        "    file.write(thong_tin)\n",
        "    print(\"Da ghi thong tin sinh vien vao file\")\n",
        "\n",
        "ghi_thong_tin_sinh_vien()"
      ],
      "metadata": {
        "id": "IzrGe3Lf3S0J"
      },
      "execution_count": null,
      "outputs": []
    },
    {
      "cell_type": "code",
      "source": [
        "#9. Cho tuple sau: numbers = (1, 2, 3, 2, 4, 2, 5). Viết chương trình:\n",
        "#• Đếm số lần xuất hiện của số 2\n",
        "#• Chuyển tuple thành list và thêm số 6 vào cuối\n",
        "#• In ra phần tử đầu tiên và cuối cùng của tuple\n",
        "numbers = (1, 2, 3, 2, 4, 2, 5)\n",
        "count_2 = numbers.count(2)\n",
        "print(\"So lan xuat hien cua so 2: \", count_2)\n",
        "list = list(numbers)\n",
        "list.append(6)\n",
        "numbers = tuple(list)\n",
        "print(\"Tuple sau khi them so 6: \", numbers)\n",
        "print(\"Phan tu dau tien: \", numbers[0])\n",
        "print(\"Phan tu cuoi cung: \", numbers[-1])\n"
      ],
      "metadata": {
        "colab": {
          "base_uri": "https://localhost:8080/"
        },
        "id": "-PfSFyEH3S96",
        "outputId": "2ae5d1d7-ce15-4e1b-ba73-eb0b68f6e1a6"
      },
      "execution_count": null,
      "outputs": [
        {
          "output_type": "stream",
          "name": "stdout",
          "text": [
            "So lan xuat hien cua so 2:  3\n",
            "Tuple sau khi them so 6:  (1, 2, 3, 2, 4, 2, 5, 6)\n",
            "Phan tu dau tien:  1\n",
            "Phan tu cuoi cung:  6\n"
          ]
        }
      ]
    },
    {
      "cell_type": "code",
      "source": [
        "#10. Tạo dictionary lưu thông tin về các quốc gia và thủ đô. Viết chương trình cho phép:\n",
        "my_dict = {\n",
        "    \"Viet Nam\" : \"Ha Noi\",\n",
        "    \"Han Quoc\" : \"Seoul\",\n",
        "    \"Nhat Ban\" : \"Tokyo\"\n",
        "}\n",
        "#• Thêm cặp quốc gia - thủ đô mới\n",
        "my_dict[\"Trung Quoc\"] = \"Bac Kinh\"\n",
        "#• Hiển thị tất cả quốc gia và thủ đô\n",
        "print(my_dict)"
      ],
      "metadata": {
        "colab": {
          "base_uri": "https://localhost:8080/"
        },
        "id": "1vBFVKRw3THC",
        "outputId": "0c65ca8c-1267-4482-f901-6673c3e9266f"
      },
      "execution_count": null,
      "outputs": [
        {
          "output_type": "stream",
          "name": "stdout",
          "text": [
            "{'Viet Nam': 'Ha Noi', 'Han Quoc': 'Seoul', 'Nhat Ban': 'Tokyo', 'Trung Quoc': 'Bac Kinh'}\n"
          ]
        }
      ]
    },
    {
      "cell_type": "code",
      "source": [
        "#• Tìm kiếm thủ đô khi nhập tên quốc gia\n",
        "quocgia = input(\"Nhap ten quoc gia:\")\n",
        "if quocgia in my_dict:\n",
        "    print(\"Thu do cua\", quocgia, \"la\", my_dict[quocgia])\n",
        "else:\n",
        "    print(\"Khong tim thay thu do cua quoc gia\", quocgia)"
      ],
      "metadata": {
        "colab": {
          "base_uri": "https://localhost:8080/"
        },
        "id": "S4uPUtTmGJ-9",
        "outputId": "5847a4fd-939c-410d-ea26-45d5a60691bd"
      },
      "execution_count": null,
      "outputs": [
        {
          "output_type": "stream",
          "name": "stdout",
          "text": [
            "Nhap ten quoc gia:Viet Nam\n",
            "Thu do cua Viet Nam la Ha Noi\n"
          ]
        }
      ]
    },
    {
      "cell_type": "code",
      "source": [
        "#• Xóa một quốc gia khỏi dictionary\n",
        "quocgia = input(\"Nhap ten quoc gia can xoa: \")\n",
        "if quocgia in my_dict:\n",
        "    del my_dict[quocgia]\n",
        "    print(\"Da xoa quoc gia\", quocgia, \"va thu do tuong ung\")\n",
        "else:\n",
        "    print(\"Khong tim thay quoc gia\", quocgia, \"de xoa\")\n",
        "\n",
        "print(my_dict)"
      ],
      "metadata": {
        "colab": {
          "base_uri": "https://localhost:8080/"
        },
        "id": "q2cVu2PuGOrj",
        "outputId": "5b25b6d4-693a-4c28-cb4c-87f702cdb7bd"
      },
      "execution_count": null,
      "outputs": [
        {
          "output_type": "stream",
          "name": "stdout",
          "text": [
            "Nhap ten quoc gia can xoa: Trung Quoc\n",
            "Da xoa quoc gia Trung Quoc va thu do tuong ung\n",
            "{'Viet Nam': 'Ha Noi', 'Han Quoc': 'Seoul', 'Nhat Ban': 'Tokyo'}\n"
          ]
        }
      ]
    },
    {
      "cell_type": "code",
      "source": [
        "#11. Viết chương trình yêu cầu người dùng nhập số nguyên dương n và xử lý các trường hợp ngoại lệ:\n",
        "#• Nếu người dùng nhập chữ thay vì số\n",
        "#• Nếu người dùng nhập số âm\n",
        "#• In ra thông báo lỗi phù hợp và yêu cầu nhập lại\n",
        "\n",
        "n = int(input(\"Nhap so nguyen duong: \"))\n",
        "def nhap_so_nguyen_duong():\n",
        "    while True:\n",
        "        n = input(\"Vui lòng nhập một số nguyên dương: \")\n",
        "        if not n.isdigit():\n",
        "            print(\"Lỗi: Bạn phải nhập một số nguyên dương. Vui lòng thử lại!\")\n",
        "        else:\n",
        "            n = int(n)\n",
        "            if n <= 0:\n",
        "                print(\"Lỗi: Số phải lớn hơn 0. Vui lòng thử lại!\")\n",
        "            else:\n",
        "                return n\n",
        "\n",
        "# Chạy hàm\n",
        "n = nhap_so_nguyen_duong()\n",
        "print(f\"Bạn đã nhập số nguyên dương: {n}\")\n"
      ],
      "metadata": {
        "id": "eZMhiCUT3TPR",
        "colab": {
          "base_uri": "https://localhost:8080/"
        },
        "outputId": "85b3930e-1307-4ed3-dbe0-fed6d50fec7e"
      },
      "execution_count": 1,
      "outputs": [
        {
          "output_type": "stream",
          "name": "stdout",
          "text": [
            "Nhap so nguyen duong: 6\n",
            "Vui lòng nhập một số nguyên dương: 2\n",
            "Bạn đã nhập số nguyên dương: 2\n"
          ]
        }
      ]
    }
  ]
}