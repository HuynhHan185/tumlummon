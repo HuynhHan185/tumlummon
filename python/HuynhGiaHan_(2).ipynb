{
  "nbformat": 4,
  "nbformat_minor": 0,
  "metadata": {
    "colab": {
      "provenance": []
    },
    "kernelspec": {
      "name": "python3",
      "display_name": "Python 3"
    },
    "language_info": {
      "name": "python"
    }
  },
  "cells": [
    {
      "cell_type": "code",
      "execution_count": 21,
      "metadata": {
        "id": "T_zfaaBHx7_x"
      },
      "outputs": [],
      "source": [
        "#Câu 1: Xây dựng một hệ thống quản lý thư viện đơn giản với các yêu cầu sau:\n",
        "#Tạo class Book với các thuộc tính: title, author, isbn, status (available/borrowed)\n",
        "class Book:\n",
        "  def __init__(self, title, author, isbn, status):\n",
        "    self.title = title\n",
        "    self.author = author\n",
        "    self.isbn = isbn\n",
        "    self.status = \"available\"\n",
        "  def __str__(self):\n",
        "    return f\"Title: {self.title}, Author: {self.author}, ISBN: {self.isbn}, Status: {self.status}\""
      ]
    },
    {
      "cell_type": "code",
      "source": [
        "b1 = Book('Harry Potter', 'J.K. Rowling', '9780747532743', 'available')\n",
        "b2 = Book('To Kill a Mockingbird', 'Harper Lee', '9780061120084', 'available')\n",
        "b3 = Book('The Great Gatsby', 'F. Scott Fitzgerald', '9780743273565', 'available')"
      ],
      "metadata": {
        "id": "PeTiRhhsJ3_A"
      },
      "execution_count": 10,
      "outputs": []
    },
    {
      "cell_type": "code",
      "source": [
        "#Tạo class Library để quản lý danh sách sách với các phương thức:\n",
        "\n",
        "class Library:\n",
        "  def __init__(self):\n",
        "    self.books = []\n",
        "#o add_book(): Thêm sách mới\n",
        "  def add_book(self, book):\n",
        "        self.books.append(book)\n",
        "        print(\"Sách đã được thêm vào thư viện.\")\n",
        "#o remove_book(): Xóa sách theo ISBN\n",
        "  def remove_book(self, isbn):\n",
        "        for book in self.books:\n",
        "            if book.isbn == isbn:\n",
        "                self.books.remove(book)\n",
        "                print(\"Sách đã được xóa khỏi thư viện.\")\n",
        "                return\n",
        "        print(\"Không tìm thấy sách có ISBN này.\")\n",
        "#o borrow_book(): Mượn sách\n",
        "  def borrow_book(self, isbn):\n",
        "        for book in self.books:\n",
        "            if book.isbn == isbn and book.status == \"available\":\n",
        "                book.status = \"borrowed\"\n",
        "                print(\"Bạn đã mượn sách thành công.\")\n",
        "                return\n",
        "        print(\"Sách không có sẵn hoặc không tồn tại.\")\n",
        "#o return_book(): Trả sách\n",
        "  def return_book(self, isbn):\n",
        "        for book in self.books:\n",
        "            if book.isbn == isbn and book.status == \"borrowed\":\n",
        "                book.status = \"available\"\n",
        "                print(\"Bạn đã trả sách thành công.\")\n",
        "                return\n",
        "        print(\"Sách không được mượn hoặc không tồn tại.\")\n",
        "#o display_books(): Hiển thị danh sách sách\n",
        "  def display_books(self):\n",
        "        if not self.books:\n",
        "            print(\"Thư viện hiện không có sách.\")\n",
        "        else:\n",
        "            print(\"Danh sách sách:\")\n",
        "            for book in self.books:\n",
        "                print(book)"
      ],
      "metadata": {
        "id": "8dhRzdy7ONUN"
      },
      "execution_count": 20,
      "outputs": []
    },
    {
      "cell_type": "code",
      "source": [
        "Library = Library()\n",
        "Library.add_book(b1)\n",
        "Library.add_book(b2)\n",
        "Library.add_book(b3)"
      ],
      "metadata": {
        "colab": {
          "base_uri": "https://localhost:8080/"
        },
        "id": "yeqJhbgROcGM",
        "outputId": "32e6a50f-f562-44a0-d7e1-2abe576bde70"
      },
      "execution_count": 22,
      "outputs": [
        {
          "output_type": "stream",
          "name": "stdout",
          "text": [
            "Sách đã được thêm vào thư viện.\n",
            "Sách đã được thêm vào thư viện.\n",
            "Sách đã được thêm vào thư viện.\n"
          ]
        }
      ]
    },
    {
      "cell_type": "code",
      "source": [
        "b4 = Book('1984', 'George Orwell', '9780452262507', 'available')\n",
        "Library.add_book(b4)\n",
        "Library.display_books()"
      ],
      "metadata": {
        "colab": {
          "base_uri": "https://localhost:8080/"
        },
        "id": "7Nmho3sIOio_",
        "outputId": "345f93da-2f07-427a-fb84-821a9014d88b"
      },
      "execution_count": 28,
      "outputs": [
        {
          "output_type": "stream",
          "name": "stdout",
          "text": [
            "Sách đã được thêm vào thư viện.\n",
            "Danh sách sách:\n",
            "Title: Harry Potter, Author: J.K. Rowling, ISBN: 9780747532743, Status: available\n",
            "Title: To Kill a Mockingbird, Author: Harper Lee, ISBN: 9780061120084, Status: available\n",
            "Title: The Great Gatsby, Author: F. Scott Fitzgerald, ISBN: 9780743273565, Status: available\n",
            "Title: 1984, Author: George Orwell, ISBN: 9780452262507, Status: available\n",
            "Title: 1984, Author: George Orwell, ISBN: 9780452262507, Status: available\n"
          ]
        }
      ]
    },
    {
      "cell_type": "code",
      "source": [
        "Library.remove_book('9780747532743')\n",
        "Library.display_books()"
      ],
      "metadata": {
        "colab": {
          "base_uri": "https://localhost:8080/"
        },
        "id": "hF3xh9BjPbwK",
        "outputId": "fd122617-2a52-4a46-dfca-8364926dbeda"
      },
      "execution_count": 29,
      "outputs": [
        {
          "output_type": "stream",
          "name": "stdout",
          "text": [
            "Sách đã được xóa khỏi thư viện.\n",
            "Danh sách sách:\n",
            "Title: To Kill a Mockingbird, Author: Harper Lee, ISBN: 9780061120084, Status: available\n",
            "Title: The Great Gatsby, Author: F. Scott Fitzgerald, ISBN: 9780743273565, Status: available\n",
            "Title: 1984, Author: George Orwell, ISBN: 9780452262507, Status: available\n",
            "Title: 1984, Author: George Orwell, ISBN: 9780452262507, Status: available\n"
          ]
        }
      ]
    },
    {
      "cell_type": "code",
      "source": [
        "Library.borrow_book('9780452262507')"
      ],
      "metadata": {
        "colab": {
          "base_uri": "https://localhost:8080/"
        },
        "id": "3zsUecE0PnPK",
        "outputId": "4991a98f-1aff-4bb6-bc8e-cbb03d94f90a"
      },
      "execution_count": 33,
      "outputs": [
        {
          "output_type": "stream",
          "name": "stdout",
          "text": [
            "Bạn đã mượn sách thành công.\n"
          ]
        }
      ]
    },
    {
      "cell_type": "code",
      "source": [
        "Library.return_book('9780452262507')"
      ],
      "metadata": {
        "colab": {
          "base_uri": "https://localhost:8080/"
        },
        "id": "-oexK-YSP4tF",
        "outputId": "f2226e58-4970-4be0-fb9f-99fa9c3d2c25"
      },
      "execution_count": 34,
      "outputs": [
        {
          "output_type": "stream",
          "name": "stdout",
          "text": [
            "Bạn đã trả sách thành công.\n"
          ]
        }
      ]
    },
    {
      "cell_type": "code",
      "source": [
        "#Câu 2: Tạo class Account với các thuộc tính: account_number, owner_name, balance\n",
        "class Account:\n",
        "  def __init__(self, account_number, owner_name, balance):\n",
        "    self.account_number = account_number\n",
        "    self.owner_name = owner_name\n",
        "    self.balance = balance\n",
        "\n",
        "#Tạo các phương thức:\n",
        "#deposit(): Nạp tiền\n",
        "  def deposit(self, amount):\n",
        "    self.balance += amount\n",
        "    print(f\"Nạp tiền thành công. Số dư hiện tại: {self.balance}\")\n",
        "\n",
        "#withdraw(): Rút tiền (có kiểm tra số dư)\n",
        "  def withdraw(self, amount):\n",
        "    if self.balance >= amount:\n",
        "      self.balance -= amount\n",
        "      print(f\"Rút tiền thành công. Số dư hiện tại: {self.balance}\")\n",
        "\n",
        "#get_balance(): Xem số dư\n",
        "  def get_balance(self):\n",
        "    print(f\"Số dư hiện tại: {self.balance}\")\n",
        "\n",
        "#transfer(): Chuyển tiền sang tài khoản khác\n",
        "  def transfer(self, amount, target_account):\n",
        "    if self.balance >= amount:\n",
        "      self.balance -= amount\n",
        "      target_account.deposit(amount)\n",
        "      print(f\"Chuyển tiền thành công. Số dư hiện tại: {self.balance}\")\n",
        "\n",
        "#Tạo phương thức để in thông tin tài khoản\n",
        "  def __str__(self):\n",
        "    return f\"Tài khoản: {self.account_number}, Chủ sở hữu: {self.owner_name}, Số dư: {self.balance}\""
      ],
      "metadata": {
        "id": "ybjVeNY1F3xy"
      },
      "execution_count": 4,
      "outputs": []
    },
    {
      "cell_type": "code",
      "source": [
        "acc1 = Account('185', 'Hân', 1000000)\n",
        "acc2 = Account('130', 'Dương', 5000000)\n",
        "acc3 = Account('244', 'Duyên', 3000000)"
      ],
      "metadata": {
        "id": "c98NeqWtHR1g"
      },
      "execution_count": 5,
      "outputs": []
    },
    {
      "cell_type": "code",
      "source": [
        "acc1.deposit(1000000)"
      ],
      "metadata": {
        "colab": {
          "base_uri": "https://localhost:8080/"
        },
        "id": "8xuCqalmI1rW",
        "outputId": "dec85203-e0e1-44a3-a9c3-415164ef05cf"
      },
      "execution_count": 7,
      "outputs": [
        {
          "output_type": "stream",
          "name": "stdout",
          "text": [
            "Nạp tiền thành công. Số dư hiện tại: 2000000\n"
          ]
        }
      ]
    },
    {
      "cell_type": "code",
      "source": [
        "acc2.withdraw(1500000)"
      ],
      "metadata": {
        "colab": {
          "base_uri": "https://localhost:8080/"
        },
        "id": "GpP6H3GUJHQZ",
        "outputId": "e71f4fd8-581d-4847-ed61-7effb9801723"
      },
      "execution_count": 8,
      "outputs": [
        {
          "output_type": "stream",
          "name": "stdout",
          "text": [
            "Rút tiền thành công. Số dư hiện tại: 3500000\n"
          ]
        }
      ]
    },
    {
      "cell_type": "code",
      "source": [
        "acc3.transfer(1000000, acc1)"
      ],
      "metadata": {
        "colab": {
          "base_uri": "https://localhost:8080/"
        },
        "id": "29X6jLMAJTk_",
        "outputId": "5485f215-7dc7-444c-c1ca-40ac48784741"
      },
      "execution_count": 9,
      "outputs": [
        {
          "output_type": "stream",
          "name": "stdout",
          "text": [
            "Nạp tiền thành công. Số dư hiện tại: 3000000\n",
            "Chuyển tiền thành công. Số dư hiện tại: 2000000\n"
          ]
        }
      ]
    },
    {
      "cell_type": "code",
      "source": [
        "#Câu 3: Tạo class abstract Employee với các thuộc tính cơ bản: id, name, salary\n",
        "class Employee:\n",
        "  def __init__(self, id, name, salary):\n",
        "    self.id = id\n",
        "    self.name = name\n",
        "    self.salary = salary\n",
        "  def tinhLuong(self):\n",
        "        return self.salary\n",
        "\n",
        "  def __str__(self):\n",
        "        return f\"ID: {self.id}, Tên: {self.name}, Lương: {self.salary}\""
      ],
      "metadata": {
        "id": "UEik-bHEP8tx"
      },
      "execution_count": 99,
      "outputs": []
    },
    {
      "cell_type": "code",
      "source": [
        "class Manager(Employee):\n",
        "  def __init__(self, id, name, salary, bonus):\n",
        "    super().__init__(id, name, salary)\n",
        "    self.bonus = bonus\n",
        "\n",
        "  def tinhLuong(self):\n",
        "    return self.salary + self.bonus\n",
        "\n",
        "ql = Manager(1, 'Hân', 10000000, 5000000)\n",
        "ql.tinhLuong()"
      ],
      "metadata": {
        "colab": {
          "base_uri": "https://localhost:8080/"
        },
        "id": "Q6zaxh_xRApb",
        "outputId": "a96b97c5-8447-4823-a885-1e71d04acecc"
      },
      "execution_count": 100,
      "outputs": [
        {
          "output_type": "execute_result",
          "data": {
            "text/plain": [
              "15000000"
            ]
          },
          "metadata": {},
          "execution_count": 100
        }
      ]
    },
    {
      "cell_type": "code",
      "source": [
        "class Developer(Employee):\n",
        "  def __init__(self, id, name, salary, project_bonus):\n",
        "    super().__init__(id, name, salary)\n",
        "    self.project_bonus = project_bonus\n",
        "\n",
        "  def tinhLuong(self):\n",
        "    return self.salary + self.project_bonus\n",
        "\n",
        "dvl = Developer(2, 'Dương', 15000000, 7000000)\n",
        "dvl.tinhLuong()"
      ],
      "metadata": {
        "colab": {
          "base_uri": "https://localhost:8080/"
        },
        "id": "4x9LIl6HSlGb",
        "outputId": "ccf47976-e7a1-4140-b9af-733b42957fad"
      },
      "execution_count": 43,
      "outputs": [
        {
          "output_type": "execute_result",
          "data": {
            "text/plain": [
              "22000000"
            ]
          },
          "metadata": {},
          "execution_count": 43
        }
      ]
    },
    {
      "cell_type": "code",
      "source": [
        "class Tester(Employee):\n",
        "  def __init__(self, id, name, salary, bug_bonus):\n",
        "    super().__init__(id, name, salary)\n",
        "    self.bug_bonus = bug_bonus\n",
        "\n",
        "  def tinhLuong(self):\n",
        "    return self.salary + self.bug_bonus\n",
        "\n",
        "tst = Tester(3, 'Duyên', 12000000, 6000000)\n",
        "tst.tinhLuong()"
      ],
      "metadata": {
        "colab": {
          "base_uri": "https://localhost:8080/"
        },
        "id": "sMzZ5W2ZS3-2",
        "outputId": "567cece9-b10e-49f0-b17a-88df0ce2ed13"
      },
      "execution_count": 44,
      "outputs": [
        {
          "output_type": "execute_result",
          "data": {
            "text/plain": [
              "18000000"
            ]
          },
          "metadata": {},
          "execution_count": 44
        }
      ]
    },
    {
      "cell_type": "code",
      "source": [
        "class Department:\n",
        "    def __init__(self):\n",
        "        self.employees = []\n",
        "\n",
        "    def add_employee(self, employee):\n",
        "        self.employees.append(employee)\n",
        "        print(\"Thêm nhân viên mới thành công\")\n",
        "\n",
        "    def remove_employee(self, id):\n",
        "        for i, employee in enumerate(self.employees):\n",
        "            if employee.id == id:\n",
        "                del self.employees[i]\n",
        "                print(\"Xóa nhân viên thành công\")\n",
        "                return\n",
        "        print(\"Không tìm thấy nhân viên có ID này\")\n",
        "\n",
        "    def get_total_salary(self):\n",
        "        total_salary = 0\n",
        "        for employee in self.employees:\n",
        "            total_salary += employee.tinhLuong()\n",
        "        return total_salary\n",
        "\n",
        "    def display_employees(self):\n",
        "        if not self.employees:\n",
        "            print(\"Hiện tại không có nhân viên.\")\n",
        "        else:\n",
        "            print(\"Danh sách nhân viên:\")\n",
        "            for employee in self.employees:\n",
        "                print(employee)"
      ],
      "metadata": {
        "id": "6odF1WBkbKq4"
      },
      "execution_count": 101,
      "outputs": []
    },
    {
      "cell_type": "code",
      "source": [
        "nv1 = Employee('003', 'Lan', 10000000)\n",
        "nv2 = Employee('004', 'Huy', 20000000)\n",
        "nv3 = Employee('001', 'Phương', 15000000)"
      ],
      "metadata": {
        "id": "qhoCGinuc_Pf"
      },
      "execution_count": 90,
      "outputs": []
    },
    {
      "cell_type": "code",
      "source": [
        "Department = Department()\n",
        "Department.add_employee(nv1)\n",
        "Department.add_employee(nv2)\n",
        "Department.add_employee(nv3)"
      ],
      "metadata": {
        "colab": {
          "base_uri": "https://localhost:8080/"
        },
        "id": "eBZvn8BcdByx",
        "outputId": "8446e24c-0d28-41ec-e9be-5d89e4166d28"
      },
      "execution_count": 91,
      "outputs": [
        {
          "output_type": "stream",
          "name": "stdout",
          "text": [
            "Thêm nhân viên mới thành công\n",
            "Thêm nhân viên mới thành công\n",
            "Thêm nhân viên mới thành công\n"
          ]
        }
      ]
    },
    {
      "cell_type": "code",
      "source": [
        "Department.remove_employee('003')\n",
        "Department.display_employees()"
      ],
      "metadata": {
        "colab": {
          "base_uri": "https://localhost:8080/"
        },
        "id": "gVyXoNSfdzei",
        "outputId": "87014232-fbd4-4cdc-8e77-66ed3b1f9084"
      },
      "execution_count": 92,
      "outputs": [
        {
          "output_type": "stream",
          "name": "stdout",
          "text": [
            "Xóa nhân viên thành công\n",
            "Danh sách nhân viên:\n",
            "<__main__.Employee object at 0x7806892a1ab0>\n",
            "<__main__.Employee object at 0x7806892a3160>\n"
          ]
        }
      ]
    },
    {
      "cell_type": "code",
      "source": [
        "Department = Department()\n",
        "Department.get_total_salary()"
      ],
      "metadata": {
        "colab": {
          "base_uri": "https://localhost:8080/"
        },
        "id": "SYzKmRNDmyHP",
        "outputId": "d5c1ef1a-fbe6-49fa-de62-92b5d9d360e1"
      },
      "execution_count": 106,
      "outputs": [
        {
          "output_type": "execute_result",
          "data": {
            "text/plain": [
              "0"
            ]
          },
          "metadata": {},
          "execution_count": 106
        }
      ]
    }
  ]
}