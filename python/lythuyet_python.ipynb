{
  "nbformat": 4,
  "nbformat_minor": 0,
  "metadata": {
    "colab": {
      "provenance": []
    },
    "kernelspec": {
      "name": "python3",
      "display_name": "Python 3"
    },
    "language_info": {
      "name": "python"
    }
  },
  "cells": [
    {
      "cell_type": "code",
      "execution_count": null,
      "metadata": {
        "id": "QNucHXtc0LE-"
      },
      "outputs": [],
      "source": [
        "'''\n",
        " THUẬT TOÁN TÌM KIẾM\n",
        " '''\n",
        "\n",
        " #? Tìm kiếm tuyến tính (Linear Search)\n",
        "\n",
        " '''\n",
        "     @params: input_arr, target\n",
        "     - input_arr: mảng cần duyệt\n",
        "     - target: giá trị mình muốn tìm kiếm\n",
        " '''\n",
        " def linear_search(input_arr, target):\n",
        "     for item in input_arr:\n",
        "         if item == target:\n",
        "             return item\n",
        "         else:\n",
        "             return -1\n",
        "\n",
        "\n",
        "\n",
        " #? Tìm kiếm nhị phân (Binary Search)\n",
        "\n",
        " '''\n",
        "     @params: input_arr, target\n",
        "     - input_arr: mảng cần duyệt\n",
        "     - target: giá trị mình muốn tìm kiếm\n",
        "\n",
        "     @note: dừng vòng lặp khi head > tail\n",
        " '''\n",
        " def binary_search(input_arr, target):\n",
        "     # 1. Sắp xếp lại mảng (k nằm trong thuật toán)\n",
        "     input_arr.sort()\n",
        "\n",
        "     # 2. Xác định vị trí index đầu và index cuối\n",
        "     head = 0\n",
        "     tail = len(input_arr) - 1 # 4\n",
        "\n",
        "     # 3. Tính vị trí chính giữa\n",
        "     middle = (head + tail) // 2\n",
        "\n",
        "     # 4. Kiểm tra giá trị tại index chính giữa\n",
        "     while head <= tail:\n",
        "         if input_arr[middle] == target:\n",
        "             return 1\n",
        "         else:\n",
        "             # 5. Cập nhật head hoặc tail nếu không tìm được target\n",
        "             if input_arr[middle] > target:\n",
        "                 tail = middle - 1\n",
        "             else:\n",
        "                 head = middle + 1\n",
        "\n",
        "             middle = (head + tail) // 2\n",
        "\n",
        "     return -1\n",
        "\n",
        " numbers = [1, 10, 7, 30, 22, 25, 120, 15, 18, 19]\n",
        " target = int(input(\"Nhập số để tìm kiếm: \"))\n",
        "\n",
        " # result = linear_search(numbers, target)\n",
        " result = binary_search(numbers, target)\n",
        "\n",
        " if result == 1:\n",
        "     print(f\"Tìm thấy số: {target}\")\n",
        " else:\n",
        "     print(f\"Không tìm thấy số: {target}\")"
      ]
    },
    {
      "cell_type": "code",
      "source": [
        "'''\n",
        "Bubble Sort (sắp xếp nổi bọt)\n",
        "'''\n",
        "\n",
        "def bubble_sort(arr):\n",
        "\n",
        "    n = len(arr)\n",
        "\n",
        "    for i in range(n): # 0 -> n - 1\n",
        "        for j in range(0, n - 1 - i): # 0 -> n - 1 - i\n",
        "            if arr[j] > arr[j+1]:\n",
        "                # Đổi chỗ giá trị tại 2 vị trí index\n",
        "                arr[j], arr[j + 1] = arr[j + 1], arr[j]\n",
        "\n",
        "                #? 1 cách làm khác cho việc đổi chỗ -> đặt biến tạm\n",
        "                # temp = arr[j]\n",
        "                # arr[j] = arr[j + 1]\n",
        "                # arr[j + 1] = temp"
      ],
      "metadata": {
        "id": "HFFjrdcL0XbF"
      },
      "execution_count": null,
      "outputs": []
    },
    {
      "cell_type": "code",
      "source": [
        "'''\n",
        "Insertion Sort (sắp xếp chèn)\n",
        "'''\n",
        "\n",
        "def insertion_sort(arr):\n",
        "    n= len(arr)\n",
        "    for i in range(1, n):\n",
        "        key = arr[i]\n",
        "        j = i - 1\n",
        "\n",
        "        while j >= 0 and key < arr[j]:\n",
        "            arr[j + 1] = arr[j]\n",
        "            j -= 1\n",
        "\n",
        "        arr[j + 1] = key"
      ],
      "metadata": {
        "id": "0xYnJJgE0cqc"
      },
      "execution_count": null,
      "outputs": []
    },
    {
      "cell_type": "code",
      "source": [
        "'''\n",
        "Selection Sort (sắp xếp chọn)\n",
        "'''\n",
        "\n",
        "def selection_sort(arr):\n",
        "\n",
        "    n = len(arr)\n",
        "\n",
        "    for i in range(n):\n",
        "        min_index = i\n",
        "        for j in range(i + 1, n):\n",
        "            if arr[j] < arr[min_index]:\n",
        "                min_index = j\n",
        "\n",
        "        # Đổi chỗ giá trị tại 2 vị trí index\n",
        "        arr[i], arr[min_index] = arr[min_index], arr[i]\n",
        "\n",
        "        #? 1 cách làm khác cho việc đổi chỗ\n",
        "        # temp = arr[i]\n",
        "        # arr[i] = arr[min_index]\n",
        "        # arr[min_index] = temp"
      ],
      "metadata": {
        "id": "oufvc9LD0hzx"
      },
      "execution_count": null,
      "outputs": []
    },
    {
      "cell_type": "code",
      "source": [
        "#QUEUE\n",
        "#CÁCH 1:\n",
        "class Queue:\n",
        "    def __init__(self):\n",
        "        self.queue = []\n",
        "\n",
        "    def is_empty(self):\n",
        "        return len(self.queue) == 0\n",
        "\n",
        "    def __str__(self):\n",
        "        if self.is_empty():\n",
        "            return \"queue is empty\"\n",
        "        else:\n",
        "            return str(self.queue)\n",
        "\n",
        "    def push(self, number):\n",
        "        self.queue.append(number)\n",
        "        return number\n",
        "\n",
        "    def pop(self):\n",
        "        if self.is_empty():\n",
        "            return None\n",
        "        return self.queue.pop(0)"
      ],
      "metadata": {
        "id": "vwGfbWuu0ktt"
      },
      "execution_count": 1,
      "outputs": []
    },
    {
      "cell_type": "code",
      "source": [
        "queue = Queue()\n",
        "print(\"Hàng đợi ban đầu: \", queue)"
      ],
      "metadata": {
        "colab": {
          "base_uri": "https://localhost:8080/"
        },
        "id": "vRZxBTm505B4",
        "outputId": "d629bae3-e945-461d-b19b-90423bc40b11"
      },
      "execution_count": 2,
      "outputs": [
        {
          "output_type": "stream",
          "name": "stdout",
          "text": [
            "Hàng đợi ban đầu:  queue is empty\n"
          ]
        }
      ]
    },
    {
      "cell_type": "code",
      "source": [
        "a = [5, 10, 15, 20, 25]\n",
        "for i in a:\n",
        "    print(queue.push(i))"
      ],
      "metadata": {
        "colab": {
          "base_uri": "https://localhost:8080/"
        },
        "id": "5kB53jN31B3g",
        "outputId": "dd5fa14b-e1a6-400a-909f-0dfa33079946"
      },
      "execution_count": 3,
      "outputs": [
        {
          "output_type": "stream",
          "name": "stdout",
          "text": [
            "5\n",
            "10\n",
            "15\n",
            "20\n",
            "25\n"
          ]
        }
      ]
    },
    {
      "cell_type": "code",
      "source": [
        "while not queue.is_empty():\n",
        "    print(f\"{queue.pop()}\")"
      ],
      "metadata": {
        "colab": {
          "base_uri": "https://localhost:8080/"
        },
        "id": "Pr65tt2I1He0",
        "outputId": "8fa96bc7-dc75-46ff-a376-f97c0ee597c3"
      },
      "execution_count": 4,
      "outputs": [
        {
          "output_type": "stream",
          "name": "stdout",
          "text": [
            "5\n",
            "10\n",
            "15\n",
            "20\n",
            "25\n"
          ]
        }
      ]
    },
    {
      "cell_type": "code",
      "source": [
        "#CÁCH 2:\n",
        "import collections\n",
        "\n",
        "class DequeQueue:\n",
        "    def __init__(self):\n",
        "        self.queue = collections.deque()\n",
        "\n",
        "    def is_empty(self):\n",
        "        return len(self.queue) == 0\n",
        "\n",
        "    def __str__(self):\n",
        "        if self.is_empty():\n",
        "            return \"Queue is empty\"\n",
        "        return str(list(self.queue))\n",
        "\n",
        "    def push(self, number):\n",
        "        self.queue.append(number)\n",
        "        return number\n",
        "\n",
        "    def pop(self):\n",
        "        if self.is_empty():\n",
        "            return None\n",
        "        return self.queue.popleft()"
      ],
      "metadata": {
        "id": "KGtu1j5q1J3c"
      },
      "execution_count": 5,
      "outputs": []
    },
    {
      "cell_type": "code",
      "source": [
        "queue = DequeQueue()\n",
        "print(\"Hàng đợi ban đầu: \", queue)\n",
        "\n",
        "a = [5, 10, 15, 20, 25]\n",
        "for i in a:\n",
        "    print(queue.push(i))\n",
        "\n",
        "print(\"\\n----- in danh sách hàng đợi----\")\n",
        "while not queue.is_empty():\n",
        "    print(f\"{queue.pop()}\")"
      ],
      "metadata": {
        "colab": {
          "base_uri": "https://localhost:8080/"
        },
        "id": "2jE_seKA1lv9",
        "outputId": "016a7e11-e774-42c4-8e96-5909745d0b73"
      },
      "execution_count": 6,
      "outputs": [
        {
          "output_type": "stream",
          "name": "stdout",
          "text": [
            "Hàng đợi ban đầu:  Queue is empty\n",
            "5\n",
            "10\n",
            "15\n",
            "20\n",
            "25\n",
            "\n",
            "----- in danh sách hàng đợi----\n",
            "5\n",
            "10\n",
            "15\n",
            "20\n",
            "25\n"
          ]
        }
      ]
    },
    {
      "cell_type": "code",
      "source": [
        "#CÁCH 3:\n",
        "\n",
        "import queue as queue_module\n",
        "\n",
        "class StdlibQueue:\n",
        "    def __init__(self):\n",
        "        self.queue = queue_module.Queue()\n",
        "    def is_empty(self):\n",
        "        return self.queue.empty()\n",
        "\n",
        "    def __str__(self):\n",
        "        if self.is_empty():\n",
        "            return \"Queue is empty\"\n",
        "        return \"Cannot directly display content of queue.Queue\"\n",
        "\n",
        "    def push(self, number):\n",
        "        self.queue.put(number)\n",
        "        return number\n",
        "\n",
        "    def pop(self):\n",
        "        if self.is_empty():\n",
        "            return None\n",
        "        return self.queue.get()"
      ],
      "metadata": {
        "id": "ceszrNe01oyh"
      },
      "execution_count": 7,
      "outputs": []
    },
    {
      "cell_type": "code",
      "source": [
        "queue = StdlibQueue()\n",
        "print(\"Hàng đợi ban đầu: \", queue)\n",
        "\n",
        "a = [5, 10, 15, 20, 25]\n",
        "for i in a:\n",
        "    print(queue.push(i))\n",
        "\n",
        "print(\"\\n----- in danh sách hàng đợi----\")\n",
        "while not queue.is_empty():\n",
        "    print(f\"{queue.pop()}\")"
      ],
      "metadata": {
        "colab": {
          "base_uri": "https://localhost:8080/"
        },
        "id": "K4fGGKxT1usF",
        "outputId": "dd18c3e2-748e-4683-9b95-76e8734348eb"
      },
      "execution_count": 8,
      "outputs": [
        {
          "output_type": "stream",
          "name": "stdout",
          "text": [
            "Hàng đợi ban đầu:  Queue is empty\n",
            "5\n",
            "10\n",
            "15\n",
            "20\n",
            "25\n",
            "\n",
            "----- in danh sách hàng đợi----\n",
            "5\n",
            "10\n",
            "15\n",
            "20\n",
            "25\n"
          ]
        }
      ]
    },
    {
      "cell_type": "code",
      "source": [
        "#STACK\n",
        "#CÁCH 1:\n",
        "class Stack:\n",
        "    def __init__(self):\n",
        "        self.stack = []\n",
        "\n",
        "    def is_empty(self):\n",
        "        return len(self.stack) == 0\n",
        "\n",
        "    def __str__(self):\n",
        "        # if not self.stack:\n",
        "        if self.is_empty():\n",
        "            return \"stack is empty\"\n",
        "        else:\n",
        "            return str(self.stack)\n",
        "\n",
        "    def push(self, number):\n",
        "        self.stack.insert(0, number)\n",
        "        return number\n",
        "\n",
        "    def pop(self):\n",
        "        if self.is_empty():\n",
        "            return None\n",
        "        return self.stack.pop(0)"
      ],
      "metadata": {
        "id": "gE3lG7aZ1yrc"
      },
      "execution_count": 9,
      "outputs": []
    },
    {
      "cell_type": "code",
      "source": [
        "ds = [1,2,3]\n",
        "for i in ds:\n",
        "    print(i)"
      ],
      "metadata": {
        "colab": {
          "base_uri": "https://localhost:8080/"
        },
        "id": "h379YMLV2BST",
        "outputId": "9192b229-ff82-40c1-ba76-cd742a0f6127"
      },
      "execution_count": 10,
      "outputs": [
        {
          "output_type": "stream",
          "name": "stdout",
          "text": [
            "1\n",
            "2\n",
            "3\n"
          ]
        }
      ]
    },
    {
      "cell_type": "code",
      "source": [
        "class StudentManager:\n",
        "    def __init__(self):\n",
        "        self.ds = []\n",
        "\n",
        "    def __str__(self):\n",
        "        if not self.ds:\n",
        "            print(\"danh sách rỗng\")\n",
        "        for i in self.ds:\n",
        "            print(i)"
      ],
      "metadata": {
        "id": "Cjq2uH-32DRd"
      },
      "execution_count": 11,
      "outputs": []
    },
    {
      "cell_type": "code",
      "source": [
        "stack = Stack()\n",
        "print(\"Ngăn xếp ban đầu: \", stack)\n",
        "\n",
        "a = [5, 10, 15, 20, 25]\n",
        "for i in a:\n",
        "    print(stack.push(i))\n",
        "\n",
        "print(\"\\n-------\")\n",
        "# kq= stack.pop()\n",
        "# if kq == None:\n",
        "#     print(\"Không có giá trị trong ds\")\n",
        "# else:\n",
        "#     print(f\"{stack.pop()}\")\n",
        "\n",
        "while not stack.is_empty():\n",
        "    print(f\"{stack.pop()}\")"
      ],
      "metadata": {
        "colab": {
          "base_uri": "https://localhost:8080/"
        },
        "id": "GdELXt5W2F2w",
        "outputId": "bb28139f-9e61-4849-e65c-e498e4e84c6d"
      },
      "execution_count": 12,
      "outputs": [
        {
          "output_type": "stream",
          "name": "stdout",
          "text": [
            "Ngăn xếp ban đầu:  stack is empty\n",
            "5\n",
            "10\n",
            "15\n",
            "20\n",
            "25\n",
            "\n",
            "-------\n",
            "25\n",
            "20\n",
            "15\n",
            "10\n",
            "5\n"
          ]
        }
      ]
    },
    {
      "cell_type": "code",
      "source": [
        "#CÁCH 2:\n",
        "import collections\n",
        "\n",
        "class DequeStack:\n",
        "    def __init__(self):\n",
        "        self.stack = collections.deque()\n",
        "\n",
        "    def is_empty(self):\n",
        "        return len(self.stack) == 0\n",
        "\n",
        "    def __str__(self):\n",
        "        if self.is_empty():\n",
        "            return \"stack is empty\"\n",
        "        else:\n",
        "            return str(self.stack)\n",
        "\n",
        "    def push(self, number):\n",
        "        self.stack.append(number)\n",
        "        return number\n",
        "\n",
        "    def pop(self):\n",
        "        if self.is_empty():\n",
        "            return None\n",
        "        return self.stack.pop()"
      ],
      "metadata": {
        "id": "T1iVWrPK2JtY"
      },
      "execution_count": 13,
      "outputs": []
    },
    {
      "cell_type": "code",
      "source": [
        "stack = DequeStack()\n",
        "print(\"Ngăn xếp ban đầu: \", stack)\n",
        "\n",
        "a = [5, 10, 15, 20, 25]\n",
        "for i in a:\n",
        "    print(stack.push(i))\n",
        "\n",
        "print(\"\\n-------\")\n",
        "while not stack.is_empty():\n",
        "    print(f\"{stack.pop()}\")\n",
        ""
      ],
      "metadata": {
        "colab": {
          "base_uri": "https://localhost:8080/"
        },
        "id": "TNauVw582N4k",
        "outputId": "0d0beef4-d8d0-4d6a-d2ce-edd7f119f002"
      },
      "execution_count": 14,
      "outputs": [
        {
          "output_type": "stream",
          "name": "stdout",
          "text": [
            "Ngăn xếp ban đầu:  stack is empty\n",
            "5\n",
            "10\n",
            "15\n",
            "20\n",
            "25\n",
            "\n",
            "-------\n",
            "25\n",
            "20\n",
            "15\n",
            "10\n",
            "5\n"
          ]
        }
      ]
    }
  ]
}