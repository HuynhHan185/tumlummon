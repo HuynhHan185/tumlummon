{
 "cells": [
  {
   "cell_type": "code",
   "execution_count": 23,
   "metadata": {},
   "outputs": [],
   "source": [
    "class SinhVien:\n",
    "    def __init__(self, id, name, age):\n",
    "        self.id = id\n",
    "        self.name = name\n",
    "        self.age = age\n",
    "\n",
    "    def __str__(self):\n",
    "        return f\"ID: {self.id}, Name: {self.name}, Age: {self.age}\""
   ]
  },
  {
   "cell_type": "code",
   "execution_count": 24,
   "metadata": {},
   "outputs": [],
   "source": [
    "class Node:\n",
    "    def __init__(self, data):\n",
    "        self.data = data\n",
    "        self.next = None"
   ]
  },
  {
   "cell_type": "code",
   "execution_count": null,
   "metadata": {},
   "outputs": [
    {
     "name": "stderr",
     "output_type": "stream",
     "text": [
      "<>:39: SyntaxWarning: 'NoneType' object is not callable; perhaps you missed a comma?\n",
      "<>:39: SyntaxWarning: 'NoneType' object is not callable; perhaps you missed a comma?\n",
      "C:\\Users\\HP\\AppData\\Local\\Temp\\ipykernel_7928\\2190620966.py:39: SyntaxWarning: 'NoneType' object is not callable; perhaps you missed a comma?\n",
      "  new_node = None(data)\n"
     ]
    }
   ],
   "source": [
    "class LinkedList:\n",
    "    def __init__(self):\n",
    "        self.head = None\n",
    "\n",
    "    def is_empty(self):\n",
    "        return self.head is None\n",
    "\n",
    "    def append(self, data):\n",
    "        new_node = Node(data)\n",
    "        if self.is_empty():\n",
    "            self.head = new_node\n",
    "            return\n",
    "        \n",
    "        current = self.head\n",
    "\n",
    "        while current:\n",
    "            current = current.next\n",
    "\n",
    "        current.next = new_node\n",
    "\n",
    "    def show(self):\n",
    "        arr = []\n",
    "        current = self.head\n",
    "\n",
    "        while current:\n",
    "            arr.append(current.data)\n",
    "            current = current.next\n",
    "        print(\" -> \".join(map(str, arr)))\n",
    " \n",
    "    def search_id(self, key):\n",
    "        current = self.head\n",
    "        while current:\n",
    "            if current.data.id == key:\n",
    "                return True\n",
    "            current = current.next\n",
    "        return False\n",
    "    \n",
    "    def pre_append(self, data):\n",
    "        new_node = None(data)\n",
    "        new_node.next = self.head\n",
    "        self.head = new_node\n",
    "\n",
    "    def after_append(self, prev_node, data):\n",
    "        new_node = Node(data)\n",
    "\n",
    "        current = self.head\n",
    "        while current:\n",
    "            current = current.next\n",
    "        prev_node.next = new_node.next\n",
    "        prev_node.next = new_node\n"
   ]
  },
  {
   "cell_type": "code",
   "execution_count": 31,
   "metadata": {},
   "outputs": [],
   "source": [
    "ds = LinkedList()\n",
    "ds.append(SinhVien(1, \"Han\", 19))\n",
    "# ds.append(SinhVien(2, \"Duyen\", 20))\n",
    "# ds.append(SinhVien(3, \"Duong\", 23))"
   ]
  },
  {
   "cell_type": "code",
   "execution_count": 32,
   "metadata": {},
   "outputs": [
    {
     "name": "stdout",
     "output_type": "stream",
     "text": [
      "ID: 1, Name: Han, Age: 19\n"
     ]
    }
   ],
   "source": [
    "ds.show()"
   ]
  },
  {
   "cell_type": "code",
   "execution_count": 33,
   "metadata": {},
   "outputs": [
    {
     "ename": "AttributeError",
     "evalue": "'NoneType' object has no attribute 'next' and no __dict__ for setting new attributes",
     "output_type": "error",
     "traceback": [
      "\u001b[31m---------------------------------------------------------------------------\u001b[39m",
      "\u001b[31mAttributeError\u001b[39m                            Traceback (most recent call last)",
      "\u001b[36mCell\u001b[39m\u001b[36m \u001b[39m\u001b[32mIn[33]\u001b[39m\u001b[32m, line 1\u001b[39m\n\u001b[32m----> \u001b[39m\u001b[32m1\u001b[39m \u001b[43mds\u001b[49m\u001b[43m.\u001b[49m\u001b[43mappend\u001b[49m\u001b[43m(\u001b[49m\u001b[43mSinhVien\u001b[49m\u001b[43m(\u001b[49m\u001b[32;43m2\u001b[39;49m\u001b[43m,\u001b[49m\u001b[43m \u001b[49m\u001b[33;43m\"\u001b[39;49m\u001b[33;43mDuyen\u001b[39;49m\u001b[33;43m\"\u001b[39;49m\u001b[43m,\u001b[49m\u001b[43m \u001b[49m\u001b[32;43m20\u001b[39;49m\u001b[43m)\u001b[49m\u001b[43m)\u001b[49m\n\u001b[32m      2\u001b[39m ds.show()\n",
      "\u001b[36mCell\u001b[39m\u001b[36m \u001b[39m\u001b[32mIn[29]\u001b[39m\u001b[32m, line 19\u001b[39m, in \u001b[36mLinkedList.append\u001b[39m\u001b[34m(self, data)\u001b[39m\n\u001b[32m     16\u001b[39m \u001b[38;5;28;01mwhile\u001b[39;00m current:\n\u001b[32m     17\u001b[39m     current = current.next\n\u001b[32m---> \u001b[39m\u001b[32m19\u001b[39m \u001b[43mcurrent\u001b[49m\u001b[43m.\u001b[49m\u001b[43mnext\u001b[49m = new_node\n",
      "\u001b[31mAttributeError\u001b[39m: 'NoneType' object has no attribute 'next' and no __dict__ for setting new attributes"
     ]
    }
   ],
   "source": [
    "ds.append(SinhVien(2, \"Duyen\", 20))\n",
    "ds.show()"
   ]
  },
  {
   "cell_type": "code",
   "execution_count": 38,
   "metadata": {},
   "outputs": [
    {
     "data": {
      "text/plain": [
       "True"
      ]
     },
     "execution_count": 38,
     "metadata": {},
     "output_type": "execute_result"
    }
   ],
   "source": [
    "key = 1\n",
    "ds.search_id(key)"
   ]
  },
  {
   "cell_type": "code",
   "execution_count": null,
   "metadata": {},
   "outputs": [],
   "source": [
    "ds."
   ]
  }
 ],
 "metadata": {
  "kernelspec": {
   "display_name": "Python 3",
   "language": "python",
   "name": "python3"
  },
  "language_info": {
   "codemirror_mode": {
    "name": "ipython",
    "version": 3
   },
   "file_extension": ".py",
   "mimetype": "text/x-python",
   "name": "python",
   "nbconvert_exporter": "python",
   "pygments_lexer": "ipython3",
   "version": "3.13.2"
  }
 },
 "nbformat": 4,
 "nbformat_minor": 2
}
