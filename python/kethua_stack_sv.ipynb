{
 "cells": [
  {
   "cell_type": "code",
   "execution_count": null,
   "metadata": {},
   "outputs": [],
   "source": [
    "class Student:\n",
    "    def __init__(self, id, name, gpa = None, age = None):\n",
    "        self.id = id\n",
    "        self.name = name\n",
    "        self.gpa = gpa\n",
    "        self.age = age\n",
    "\n",
    "    def __str__(self):\n",
    "        return f\"MSSV: {self.id}, HoTen: {self.name}, GPA: {self.gpa}\"\n",
    "    \n",
    "    def __repr__(self):\n",
    "        return self.__str__()"
   ]
  },
  {
   "cell_type": "code",
   "execution_count": 40,
   "metadata": {},
   "outputs": [],
   "source": [
    "class InternationalStudent(Student):\n",
    "    def __init__(self, id, name, gpa, age, country, language_score):\n",
    "        super().__init__(id, name, gpa, age)\n",
    "        self.country = country\n",
    "        self.language_score = language_score\n",
    "\n",
    "    def __str__(self):\n",
    "        return super().__str__() + f\" Quoc gia: {self.country}, Diem ngon ngu: {self.language_score}\""
   ]
  },
  {
   "cell_type": "code",
   "execution_count": 41,
   "metadata": {},
   "outputs": [],
   "source": [
    "class GraduateStudent(Student):\n",
    "    def __init__(self, id, name, gpa, age, thesis_title):\n",
    "        super().__init__(id, name, gpa, age)\n",
    "        self.thesis_title = thesis_title\n",
    "\n",
    "    def __str__(self):\n",
    "        return super().__str__() + f\" Ten Luan an: {self.thesis_title}\""
   ]
  },
  {
   "cell_type": "code",
   "execution_count": 64,
   "metadata": {},
   "outputs": [],
   "source": [
    "class Stack_Student:\n",
    "    def __init__(self):\n",
    "        self.stack = []\n",
    "\n",
    "    def is_empty(self):\n",
    "        return len(self.stack) == 0\n",
    "\n",
    "    def __len__(self):\n",
    "        return len(self.stack)\n",
    "\n",
    "    def __str__(self):\n",
    "        if self.is_empty():\n",
    "            return \"Stack_SinhVien is empty\"\n",
    "        else:\n",
    "            return str(self.stack)\n",
    "\n",
    "    def push(self, student):\n",
    "        self.stack.append(student)\n",
    "\n",
    "    def pop(self):\n",
    "        if self.is_empty():\n",
    "            return \"Stack_SinhVien is empty\"\n",
    "        else:\n",
    "            return self.stack.pop()"
   ]
  },
  {
   "cell_type": "code",
   "execution_count": null,
   "metadata": {},
   "outputs": [],
   "source": [
    "import json\n",
    "\n",
    "class Student_Management:\n",
    "    def __init__(self):\n",
    "        self.ds = Stack_Student()\n",
    "\n",
    "    def add_student(self):\n",
    "        print(\"Chon loai sinh vien: \")\n",
    "        print(\"1. Sinh Vien\")\n",
    "        print(\"2. International Student\")\n",
    "        print(\"3. GraduateStudent\")\n",
    "        choice = int(input(\"Chon mot so tu 1-3: \"))\n",
    "\n",
    "        id = int(input(\"Nhap MSSV: \"))\n",
    "        name = input(\"Nhap ho va ten: \")\n",
    "        gpa = float(input(\"Nhap GPA: \"))\n",
    "        age = int(input(\"Nhap tuoi: \"))\n",
    "\n",
    "        if choice == 1:\n",
    "            student = Student(id, name, gpa, age)\n",
    "        elif choice == 2:\n",
    "            country = input(\"Nhap quoc gia: \")\n",
    "            language_score = int(input(\"Nhap diem ngon ngu: \"))\n",
    "            student = InternationalStudent(id, name, gpa, age, country, language_score)\n",
    "        elif choice == 3:\n",
    "            thesis_title = input(\"Nhap ten luan an: \")\n",
    "            student = GraduateStudent(id, name, gpa, age, thesis_title)\n",
    "        else:\n",
    "            print(\"Loi\")\n",
    "            return\n",
    "        self.ds.push(student)\n",
    "\n",
    "    def display(self):\n",
    "      if not self.ds.stack:\n",
    "          print(\"Danh sách sinh viên trống\")\n",
    "          return\n",
    "      for sv in self.ds.stack:\n",
    "          print(sv)\n",
    "\n",
    "    def remove(self, id): #xoa theo cach nhap id\n",
    "        for i, sv in enumerate(self.ds.stack):\n",
    "            if sv.id == id:\n",
    "                self.ds.stack.pop(i)  \n",
    "                print(f\"Đã xóa sinh viên có ID {id}\")\n",
    "                return\n",
    "        print(f\"Không tìm thấy sinh viên có ID {id}\")\n",
    "\n",
    "\n",
    "    def search_id(self, id):\n",
    "       for sv in self.ds.stack:\n",
    "           if str(sv.id) == str(id): #nếu viết str thì khi kiểm thử chỉ cần truyền (id)\n",
    "               return sv\n",
    "       return None\n",
    "\n",
    "    def update_student(self):\n",
    "      id = input(\"Nhập ID sinh viên cần cập nhật: \")\n",
    "      sv = self.search_id(id)\n",
    "      if sv is None:\n",
    "          print(\"Không tìm thấy sinh viên!\")\n",
    "          return\n",
    "      name = input(\"Nhập tên mới (Enter để giữ nguyên): \")\n",
    "      age = input(\"Nhập tuổi mới (Enter để giữ nguyên): \")\n",
    "      gpa = input(\"Nhập GPA mới (Enter để giữ nguyên): \")\n",
    "\n",
    "      if name: sv.name = name\n",
    "      if age: sv.age = int(age)\n",
    "      if gpa: sv.gpa = float(gpa)\n",
    "      print(\"Cập nhật thành công!\")\n",
    "\n",
    "    def tim_sv_tuoi_lon_nhat(self):\n",
    "        if self.ds.is_empty():\n",
    "            return []\n",
    "    \n",
    "        max_age = max(int(sv.age) for sv in self.ds.stack)  \n",
    "        oldest_students = [sv for sv in self.ds.stack if int(sv.age) == max_age]  \n",
    "\n",
    "        return oldest_students  \n",
    "\n",
    "    def find_highest_gpa_students(self):\n",
    "        if not self.ds.stack:\n",
    "            return []\n",
    "        max_gpa = max(s.gpa for s in self.ds.stack)\n",
    "        return [s for s in self.ds.stack if s.gpa == max_gpa]\n",
    "\n",
    "    def bubble_sort(self):\n",
    "        n = len(self.ds.stack)\n",
    "        for i in range(n):\n",
    "            for j in range(0, n - 1 - i):\n",
    "                if self.ds.stack[j].gpa > self.ds.stack[j + 1].gpa:\n",
    "                    self.ds.stack[j], self.ds.stack[j + 1] = self.ds.stack[j + 1], self.ds.stack[j]\n",
    "\n",
    "    def selection_sort(self):\n",
    "        n = len(self.ds.stack)\n",
    "        for i in range(n):\n",
    "            min_index = i\n",
    "            for j in range(i + 1, n):\n",
    "                if self.ds.stack[j].id < self.ds.stack[min_index].id:\n",
    "                    min_index = j\n",
    "            self.ds.stack[i], self.ds.stack[min_index] = self.ds.stack[min_index], self.ds.stack[i]\n",
    "            \n",
    "\n",
    "    def save_to_file(self, filename = \"students.json\"):\n",
    "        students = self.ds.stack\n",
    "        with open(filename, \"w\", encoding=\"utf-8\") as file:\n",
    "            json.dump([{\n",
    "                \"id\": sv.id,\n",
    "                \"name\": sv.name,\n",
    "                \"age\": sv.age,\n",
    "                \"gpa\": sv.gpa\n",
    "            } for sv in students], file, indent=4)\n",
    "        print(f\"Dữ liệu đã được lưu vào {filename}.\")\n",
    "\n",
    "    def read_from_file(self, filename=\"students.json\"):\n",
    "        try:\n",
    "            with open(filename, \"r\", encoding=\"utf-8\") as file:\n",
    "                data = json.load(file)  # Đọc dữ liệu ngay trong 'with' để file chưa bị đóng\n",
    "\n",
    "            for item in data:\n",
    "                sv = Student(item[\"id\"], item[\"name\"], int(item[\"age\"]), float(item[\"gpa\"]))\n",
    "                self.ds.push(sv)\n",
    "\n",
    "            print(f\"Dữ liệu đã được đọc từ {filename}.\")\n",
    "        except FileNotFoundError:\n",
    "            print(f\"Không tìm thấy file {filename}.\")\n",
    "        except json.JSONDecodeError:\n",
    "            print(\"Lỗi khi đọc file JSON.\")\n"
   ]
  },
  {
   "cell_type": "code",
   "execution_count": 81,
   "metadata": {},
   "outputs": [],
   "source": [
    "qlsv = Student_Management()"
   ]
  },
  {
   "cell_type": "code",
   "execution_count": 82,
   "metadata": {},
   "outputs": [],
   "source": [
    "sv1 = Student(1, \"Nguyen Van A\", 3.5, 25)\n",
    "sv2 = Student(2, \"Tran Thi B\", 3.8, 22)\n",
    "qlsv = Student_Management()\n",
    "qlsv.ds.push(sv1)\n",
    "qlsv.ds.push(sv2)"
   ]
  },
  {
   "cell_type": "code",
   "execution_count": 83,
   "metadata": {},
   "outputs": [],
   "source": [
    "sv3 = InternationalStudent(3, \"Han\", 3.0, 20, \"Viet Nam\", 8)\n",
    "sv4 = GraduateStudent(4, \"Duong\", 3.2, 20, \"Thiet ke web\")\n",
    "qlsv.ds.push(sv3)\n",
    "qlsv.ds.push(sv4)"
   ]
  },
  {
   "cell_type": "code",
   "execution_count": 84,
   "metadata": {},
   "outputs": [
    {
     "name": "stdout",
     "output_type": "stream",
     "text": [
      "MSSV: 1, HoTen: Nguyen Van A, GPA: 3.5\n",
      "MSSV: 2, HoTen: Tran Thi B, GPA: 3.8\n",
      "MSSV: 3, HoTen: Han, GPA: 3.0 Quoc gia: Viet Nam, Diem ngon ngu: 8\n",
      "MSSV: 4, HoTen: Duong, GPA: 3.2 Ten Luan an: Thiet ke web\n"
     ]
    }
   ],
   "source": [
    "qlsv.display()"
   ]
  },
  {
   "cell_type": "code",
   "execution_count": 85,
   "metadata": {},
   "outputs": [
    {
     "name": "stdout",
     "output_type": "stream",
     "text": [
      "Đã xóa sinh viên có ID 2\n",
      "MSSV: 1, HoTen: Nguyen Van A, GPA: 3.5\n",
      "MSSV: 3, HoTen: Han, GPA: 3.0 Quoc gia: Viet Nam, Diem ngon ngu: 8\n",
      "MSSV: 4, HoTen: Duong, GPA: 3.2 Ten Luan an: Thiet ke web\n"
     ]
    }
   ],
   "source": [
    "qlsv.remove(2)\n",
    "qlsv.display()"
   ]
  },
  {
   "cell_type": "code",
   "execution_count": 86,
   "metadata": {},
   "outputs": [
    {
     "name": "stdout",
     "output_type": "stream",
     "text": [
      "MSSV: 3, HoTen: Han, GPA: 3.0 Quoc gia: Viet Nam, Diem ngon ngu: 8\n"
     ]
    }
   ],
   "source": [
    "print(qlsv.search_id(3))"
   ]
  },
  {
   "cell_type": "code",
   "execution_count": 87,
   "metadata": {},
   "outputs": [
    {
     "name": "stdout",
     "output_type": "stream",
     "text": [
      "Cập nhật thành công!\n",
      "None\n"
     ]
    }
   ],
   "source": [
    "print(qlsv.update_student())"
   ]
  },
  {
   "cell_type": "code",
   "execution_count": 88,
   "metadata": {},
   "outputs": [
    {
     "name": "stdout",
     "output_type": "stream",
     "text": [
      "[<__main__.Student object at 0x000001444EEAF680>]\n"
     ]
    }
   ],
   "source": [
    "print(qlsv.find_highest_gpa_students())"
   ]
  },
  {
   "cell_type": "code",
   "execution_count": 89,
   "metadata": {},
   "outputs": [
    {
     "name": "stdout",
     "output_type": "stream",
     "text": [
      "MSSV: 3, HoTen: Huynh Gia Han, GPA: 3.0 Quoc gia: Viet Nam, Diem ngon ngu: 8\n",
      "MSSV: 4, HoTen: Duong, GPA: 3.2 Ten Luan an: Thiet ke web\n",
      "MSSV: 1, HoTen: Nguyen Van A, GPA: 3.5\n"
     ]
    }
   ],
   "source": [
    "qlsv.bubble_sort()\n",
    "qlsv.display()"
   ]
  },
  {
   "cell_type": "code",
   "execution_count": 90,
   "metadata": {},
   "outputs": [
    {
     "name": "stdout",
     "output_type": "stream",
     "text": [
      "MSSV: 1, HoTen: Nguyen Van A, GPA: 3.5\n",
      "MSSV: 3, HoTen: Huynh Gia Han, GPA: 3.0 Quoc gia: Viet Nam, Diem ngon ngu: 8\n",
      "MSSV: 4, HoTen: Duong, GPA: 3.2 Ten Luan an: Thiet ke web\n"
     ]
    }
   ],
   "source": [
    "qlsv.selection_sort()\n",
    "qlsv.display()"
   ]
  },
  {
   "cell_type": "code",
   "execution_count": 91,
   "metadata": {},
   "outputs": [
    {
     "name": "stdout",
     "output_type": "stream",
     "text": [
      "Dữ liệu đã được lưu vào students.json.\n"
     ]
    }
   ],
   "source": [
    "qlsv.save_to_file(\"students.json\")"
   ]
  },
  {
   "cell_type": "code",
   "execution_count": 92,
   "metadata": {},
   "outputs": [
    {
     "name": "stdout",
     "output_type": "stream",
     "text": [
      "Dữ liệu đã được đọc từ students.json.\n",
      "MSSV: 1, HoTen: Nguyen Van A, GPA: 3.5\n",
      "MSSV: 3, HoTen: Huynh Gia Han, GPA: 3.0 Quoc gia: Viet Nam, Diem ngon ngu: 8\n",
      "MSSV: 4, HoTen: Duong, GPA: 3.2 Ten Luan an: Thiet ke web\n",
      "MSSV: 1, HoTen: Nguyen Van A, GPA: 25\n",
      "MSSV: 3, HoTen: Huynh Gia Han, GPA: 20\n",
      "MSSV: 4, HoTen: Duong, GPA: 20\n"
     ]
    }
   ],
   "source": [
    "qlsv.read_from_file(\"students.json\")\n",
    "qlsv.display()"
   ]
  }
 ],
 "metadata": {
  "kernelspec": {
   "display_name": "Python 3",
   "language": "python",
   "name": "python3"
  },
  "language_info": {
   "codemirror_mode": {
    "name": "ipython",
    "version": 3
   },
   "file_extension": ".py",
   "mimetype": "text/x-python",
   "name": "python",
   "nbconvert_exporter": "python",
   "pygments_lexer": "ipython3",
   "version": "3.13.2"
  }
 },
 "nbformat": 4,
 "nbformat_minor": 2
}
