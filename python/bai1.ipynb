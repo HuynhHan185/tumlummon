{
 "cells": [
  {
   "cell_type": "code",
   "execution_count": 120,
   "metadata": {},
   "outputs": [],
   "source": [
    "class Node:\n",
    "    def __init__(self, data):\n",
    "        self.data = data\n",
    "        self.left = None\n",
    "        self.right = None\n",
    "\n",
    "    def add_node(self, number):\n",
    "        if self.data:\n",
    "            if number < self.data:\n",
    "                if self.left is None:\n",
    "                    self.left = Node(number)\n",
    "                else:\n",
    "                    self.left.add_node(number)\n",
    "            elif number > self.data:\n",
    "                if self.right is None:\n",
    "                    self.right = Node(number)\n",
    "                else:\n",
    "                    self.right.add_node(number)\n",
    "\n",
    "    def kiemtra_tree_rong(self):\n",
    "        return self is None\n",
    "\n",
    "    def kiemtra_nut_la(self):\n",
    "        return self.left is None and self.right is None\n",
    "\n",
    "    def node_n_cha_cua_node_m(self, n, m):\n",
    "        if n is None or m is None:\n",
    "            return False\n",
    "        if n.left == m or n.right == m:\n",
    "            return True\n",
    "        return self.is_parent(n.left, m) or self.is_parent(n.right, m)\n",
    "    \n",
    "    def chieucao_tree(self):\n",
    "        if self is None:\n",
    "            return 0\n",
    "        left_height = self.left.chieucao_tree() if self.left else 0\n",
    "        right_height = self.right.chieucao_tree() if self.right else 0\n",
    "        return 1 + max(left_height, right_height)\n",
    "\n",
    "    def dem_nut_tree(self):\n",
    "        return 1 + ((self.left.dem_nut_tree() if self.left else 0) + \n",
    "                    (self.right.dem_nut_tree() if self.right else 0))\n",
    "\n",
    "    def NLR(self):\n",
    "        print(self.data)\n",
    "        if self.left:\n",
    "            self.left.NLR()\n",
    "        if self.right:\n",
    "            self.right.NLR()\n",
    "\n",
    "    def LNR(self): \n",
    "        if self.left:\n",
    "            self.left.LNR()\n",
    "        print(self.data)\n",
    "        if self.right:\n",
    "            self.right.LNR()\n",
    "\n",
    "    def LRN(self):\n",
    "        if self.left:\n",
    "            self.left.LRN()\n",
    "        if self.right:\n",
    "            self.right.LRN()\n",
    "        print(self.data)\n",
    "\n",
    "    def dem_nut_la(self):\n",
    "        if self.kiemtra_nut_la():\n",
    "            return 1\n",
    "        left_count = self.left.dem_nut_la() if self.left else 0\n",
    "        right_count = self.right.dem_nut_la() if self.right else 0\n",
    "        return left_count + right_count\n",
    "    \n",
    "    def dem_nut_trung_gian(self):\n",
    "        if self is None or self.kiemtra_nut_la():\n",
    "            return 0\n",
    "        left_count = self.left.dem_nut_trung_gian() if self.left else 0\n",
    "        right_count = self.right.dem_nut_trung_gian() if self.right else 0\n",
    "        return 1 + left_count + right_count\n",
    "\n",
    "    def search_min(self):\n",
    "        if self.left is None:\n",
    "            return self.data\n",
    "        return self.left.search_min()\n",
    "    \n",
    "    def search_max(self):\n",
    "        if self.right is None:\n",
    "            return self.data\n",
    "        return self.right.search_max()\n",
    "    \n",
    "    def sum_all_value(self):\n",
    "        total = self.data\n",
    "        if self.left:\n",
    "            total += self.left.sum_all_value()\n",
    "        if self.right:\n",
    "            total += self.right.sum_all_value()\n",
    "        return total\n",
    "    \n",
    "    def trungbinh_value(self):\n",
    "        total = self.sum_all_value()\n",
    "        count = self.dem_nut_tree()\n",
    "        return total / count if count != 0 else 0\n",
    "\n",
    "    def print_node(self, prefix=\"\", is_left=True):\n",
    "        if self.right:\n",
    "            self.right.print_node(prefix + (\"|  \" if is_left else \"  \"), False)\n",
    "        print(prefix + (\"|__ \" if is_left else \"  |__\"), self.data)\n",
    "        if self.left:\n",
    "            self.left.print_node(prefix + (\"  \" if is_left else \"|  \"), True)"
   ]
  },
  {
   "cell_type": "code",
   "execution_count": 136,
   "metadata": {},
   "outputs": [
    {
     "name": "stdout",
     "output_type": "stream",
     "text": [
      "|      |__ 108\n",
      "|    |__ 88\n",
      "|  |  |    |__ 71\n",
      "|  |  |__  59\n",
      "|  |    |__  55\n",
      "|__  44\n",
      "  |      |__ 40\n",
      "  |    |__ 37\n",
      "  |  |  |__  23\n",
      "  |__  18\n",
      "    |    |__ 15\n",
      "    |__  13\n"
     ]
    }
   ],
   "source": [
    "node = Node(44)\n",
    "node.add_node(18)\n",
    "node.add_node(88)\n",
    "node.add_node(13)\n",
    "node.add_node(37)\n",
    "node.add_node(15)\n",
    "node.add_node(23)\n",
    "node.add_node(40)\n",
    "node.add_node(59)\n",
    "node.add_node(108)\n",
    "node.add_node(55)\n",
    "node.add_node(71)\n",
    "\n",
    "node.print_node()"
   ]
  },
  {
   "cell_type": "code",
   "execution_count": 137,
   "metadata": {},
   "outputs": [
    {
     "data": {
      "text/plain": [
       "False"
      ]
     },
     "execution_count": 137,
     "metadata": {},
     "output_type": "execute_result"
    }
   ],
   "source": [
    "node.kiemtra_tree_rong()"
   ]
  },
  {
   "cell_type": "code",
   "execution_count": 138,
   "metadata": {},
   "outputs": [
    {
     "name": "stdout",
     "output_type": "stream",
     "text": [
      "Nút 18 là lá: False\n"
     ]
    }
   ],
   "source": [
    "print(\"Nút 18 là lá:\", node.kiemtra_nut_la())    "
   ]
  },
  {
   "cell_type": "code",
   "execution_count": 139,
   "metadata": {},
   "outputs": [
    {
     "name": "stdout",
     "output_type": "stream",
     "text": [
      "18 là cha của 13: True\n"
     ]
    }
   ],
   "source": [
    "print(\"18 là cha của 13:\", node.node_n_cha_cua_node_m(node.left, node.left.left))  "
   ]
  },
  {
   "cell_type": "code",
   "execution_count": 140,
   "metadata": {},
   "outputs": [
    {
     "data": {
      "text/plain": [
       "4"
      ]
     },
     "execution_count": 140,
     "metadata": {},
     "output_type": "execute_result"
    }
   ],
   "source": [
    "node.chieucao_tree()"
   ]
  },
  {
   "cell_type": "code",
   "execution_count": 141,
   "metadata": {},
   "outputs": [
    {
     "data": {
      "text/plain": [
       "12"
      ]
     },
     "execution_count": 141,
     "metadata": {},
     "output_type": "execute_result"
    }
   ],
   "source": [
    "node.dem_nut_tree()"
   ]
  },
  {
   "cell_type": "code",
   "execution_count": 142,
   "metadata": {},
   "outputs": [
    {
     "name": "stdout",
     "output_type": "stream",
     "text": [
      "44\n",
      "18\n",
      "13\n",
      "15\n",
      "37\n",
      "23\n",
      "40\n",
      "88\n",
      "59\n",
      "55\n",
      "71\n",
      "108\n"
     ]
    }
   ],
   "source": [
    "node.NLR()"
   ]
  },
  {
   "cell_type": "code",
   "execution_count": 143,
   "metadata": {},
   "outputs": [
    {
     "name": "stdout",
     "output_type": "stream",
     "text": [
      "13\n",
      "15\n",
      "18\n",
      "23\n",
      "37\n",
      "40\n",
      "44\n",
      "55\n",
      "59\n",
      "71\n",
      "88\n",
      "108\n"
     ]
    }
   ],
   "source": [
    "node.LNR()"
   ]
  },
  {
   "cell_type": "code",
   "execution_count": 144,
   "metadata": {},
   "outputs": [
    {
     "name": "stdout",
     "output_type": "stream",
     "text": [
      "15\n",
      "13\n",
      "23\n",
      "40\n",
      "37\n",
      "18\n",
      "55\n",
      "71\n",
      "59\n",
      "108\n",
      "88\n",
      "44\n"
     ]
    }
   ],
   "source": [
    "node.LRN()"
   ]
  },
  {
   "cell_type": "code",
   "execution_count": 145,
   "metadata": {},
   "outputs": [
    {
     "data": {
      "text/plain": [
       "6"
      ]
     },
     "execution_count": 145,
     "metadata": {},
     "output_type": "execute_result"
    }
   ],
   "source": [
    "node.dem_nut_la()"
   ]
  },
  {
   "cell_type": "code",
   "execution_count": 146,
   "metadata": {},
   "outputs": [
    {
     "data": {
      "text/plain": [
       "6"
      ]
     },
     "execution_count": 146,
     "metadata": {},
     "output_type": "execute_result"
    }
   ],
   "source": [
    "node.dem_nut_trung_gian()"
   ]
  },
  {
   "cell_type": "code",
   "execution_count": 147,
   "metadata": {},
   "outputs": [
    {
     "data": {
      "text/plain": [
       "13"
      ]
     },
     "execution_count": 147,
     "metadata": {},
     "output_type": "execute_result"
    }
   ],
   "source": [
    "node.search_min()"
   ]
  },
  {
   "cell_type": "code",
   "execution_count": 148,
   "metadata": {},
   "outputs": [
    {
     "data": {
      "text/plain": [
       "108"
      ]
     },
     "execution_count": 148,
     "metadata": {},
     "output_type": "execute_result"
    }
   ],
   "source": [
    "node.search_max()"
   ]
  },
  {
   "cell_type": "code",
   "execution_count": 149,
   "metadata": {},
   "outputs": [
    {
     "data": {
      "text/plain": [
       "571"
      ]
     },
     "execution_count": 149,
     "metadata": {},
     "output_type": "execute_result"
    }
   ],
   "source": [
    "node.sum_all_value()"
   ]
  },
  {
   "cell_type": "code",
   "execution_count": 150,
   "metadata": {},
   "outputs": [
    {
     "data": {
      "text/plain": [
       "47.583333333333336"
      ]
     },
     "execution_count": 150,
     "metadata": {},
     "output_type": "execute_result"
    }
   ],
   "source": [
    "node.trungbinh_value()"
   ]
  }
 ],
 "metadata": {
  "kernelspec": {
   "display_name": "Python 3",
   "language": "python",
   "name": "python3"
  },
  "language_info": {
   "codemirror_mode": {
    "name": "ipython",
    "version": 3
   },
   "file_extension": ".py",
   "mimetype": "text/x-python",
   "name": "python",
   "nbconvert_exporter": "python",
   "pygments_lexer": "ipython3",
   "version": "3.13.2"
  },
  "orig_nbformat": 2
 },
 "nbformat": 4,
 "nbformat_minor": 2
}
