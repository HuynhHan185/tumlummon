{
 "cells": [
  {
   "cell_type": "code",
   "execution_count": 1,
   "metadata": {},
   "outputs": [],
   "source": [
    "class SinhVien:\n",
    "    def __init__(self, masv, hoten, malop, diemTB):\n",
    "        self.masv = masv\n",
    "        self.hoten = hoten\n",
    "        self.malop = malop\n",
    "        self.diemTB = diemTB\n",
    "\n",
    "    def __str__(self):\n",
    "        return f\"MASV: {self.masv}, HoTen: {self.hoten}, MaLop: {self.malop}, DiemTB: {self.diemTB}\""
   ]
  },
  {
   "cell_type": "code",
   "execution_count": 46,
   "metadata": {},
   "outputs": [],
   "source": [
    "class Node:\n",
    "    def __init__(self, sinhvien):\n",
    "        self.sinhvien = sinhvien\n",
    "        self.left = None\n",
    "        self.right = None\n",
    "\n",
    "    def insert_tree(self, sv):\n",
    "        if sv.masv == self.sinhvien.masv:\n",
    "            print(f\"MASV {sv.masv} đã tồn tại\")\n",
    "            return\n",
    "        if sv.masv < self.sinhvien.masv:\n",
    "            if self.left is None:\n",
    "                self.left = Node(sv)\n",
    "            else:\n",
    "                self.left.insert_tree(sv)\n",
    "        elif sv.masv > self.sinhvien.masv:\n",
    "            if self.right is None:\n",
    "                self.right = Node(sv)\n",
    "            else:\n",
    "                self.right.insert_tree(sv)\n",
    "\n",
    "    def LNR(self):\n",
    "        if self.left:\n",
    "            self.left.LNR()\n",
    "        print(self.sinhvien)\n",
    "        if self.right:\n",
    "            self.right.LNR()\n",
    "\n",
    "    def dem_nut_la(self):\n",
    "        if self.left is None and self.right is None:\n",
    "            return 1\n",
    "        left_count = self.left.dem_nut_la() if self.left else 0\n",
    "        right_count = self.right.dem_nut_la() if self.right else 0\n",
    "        return left_count + right_count\n",
    "    \n",
    "    def chieucao_tree(self):\n",
    "        if self is None:\n",
    "            return 0\n",
    "        left_height = self.left.chieucao_tree() if self.left else 0\n",
    "        right_height = self.right.chieucao_tree() if self.right else 0\n",
    "        return 1 + max(left_height, right_height)   \n",
    "    \n",
    "    def search_masv(self, masv):\n",
    "        if self.sinhvien.masv == masv:\n",
    "            return self\n",
    "        elif masv < self.sinhvien.masv and self.left:\n",
    "            return self.left.search_masv(masv)\n",
    "        elif masv > self.sinhvien.masv and self.right:\n",
    "            return self.right.search_masv(masv)\n",
    "        return None\n",
    "        \n",
    "    def delete_node(self, masv):\n",
    "        if masv < self.sinhvien.masv:\n",
    "            if self.left:\n",
    "                self.left = self.left.delete_node(masv)\n",
    "        elif masv > self.sinhvien.masv:\n",
    "            if self.right:\n",
    "                self.right = self.right.delete_node(masv)\n",
    "        else:\n",
    "            if self.left is None:\n",
    "                return self.right\n",
    "            elif self.right is None:\n",
    "                return self.left\n",
    "            \n",
    "            min_larger_node = self.right.find_min() \n",
    "            self.sinhvien = min_larger_node.sinhvien\n",
    "            self.right = self.right.delete_node(min_larger_node.sinhvien.masv)\n",
    "        return self\n",
    "\n",
    "    def find_min(self):\n",
    "        current = self\n",
    "        while current.left is not None:\n",
    "            current = current.left\n",
    "        return current"
   ]
  },
  {
   "cell_type": "code",
   "execution_count": 47,
   "metadata": {},
   "outputs": [],
   "source": [
    "def nhap_sinhvien():\n",
    "    masv = input(\"Nhập MASV: \")\n",
    "    hoten = input(\"Nhập Họ tên: \")\n",
    "    malop = input(\"Nhập Mã lớp: \")\n",
    "    diemTB = float(input(\"Nhập Điểm TB: \"))\n",
    "    return SinhVien(masv, hoten, malop, diemTB)\n",
    "\n",
    "def them_sinhvien(node):\n",
    "    while True:\n",
    "        sv = nhap_sinhvien()\n",
    "        if node.search_masv(sv.masv):\n",
    "            print(\"MASV bị trùng. Vui lòng nhập lại\")\n",
    "        else:\n",
    "            node.insert_tree(sv)\n",
    "            break"
   ]
  },
  {
   "cell_type": "code",
   "execution_count": 49,
   "metadata": {},
   "outputs": [],
   "source": [
    "sv1 = SinhVien(\"SV1\", \"Nguyen Van A\", \"111\", 7.5)\n",
    "sv2 = SinhVien(\"SV2\", \"Cao Thi C\", \"112\", 7)\n",
    "sv3 = SinhVien(\"SV3\", \"Huynh Minh D\", \"113\", 8)\n",
    "\n",
    "node = Node(sv1) \n",
    "node.insert_tree(sv2)\n",
    "node.insert_tree(sv3)\n",
    "\n",
    "ds_sv = [\n",
    "    SinhVien(\"SV4\", \"Le Thi h\", \"114\", 8.5),\n",
    "    SinhVien(\"SV5\", \"Pham Van Q\", \"115\", 9) ]\n",
    "\n",
    "for sv in ds_sv:\n",
    "    node.insert_tree(sv)"
   ]
  },
  {
   "cell_type": "code",
   "execution_count": 50,
   "metadata": {},
   "outputs": [
    {
     "name": "stdout",
     "output_type": "stream",
     "text": [
      "MASV: SV1, HoTen: Nguyen Van A, MaLop: 111, DiemTB: 7.5\n",
      "MASV: SV2, HoTen: Cao Thi C, MaLop: 112, DiemTB: 7\n",
      "MASV: SV3, HoTen: Huynh Minh D, MaLop: 113, DiemTB: 8\n",
      "MASV: SV4, HoTen: Le Thi h, MaLop: 114, DiemTB: 8.5\n",
      "MASV: SV5, HoTen: Pham Van Q, MaLop: 115, DiemTB: 9\n"
     ]
    }
   ],
   "source": [
    "node.LNR()"
   ]
  },
  {
   "cell_type": "code",
   "execution_count": 51,
   "metadata": {},
   "outputs": [
    {
     "name": "stdout",
     "output_type": "stream",
     "text": [
      "Kết quả: MASV: SV3, HoTen: Huynh Minh D, MaLop: 113, DiemTB: 8\n"
     ]
    }
   ],
   "source": [
    "sv = input(\"Nhập MASV cần tìm: \")\n",
    "tim = node.search_masv(sv)\n",
    "print(\"Kết quả:\", tim.sinhvien if tim else \"Không tìm thấy\")"
   ]
  },
  {
   "cell_type": "code",
   "execution_count": 52,
   "metadata": {},
   "outputs": [
    {
     "data": {
      "text/plain": [
       "1"
      ]
     },
     "execution_count": 52,
     "metadata": {},
     "output_type": "execute_result"
    }
   ],
   "source": [
    "node.dem_nut_la()"
   ]
  },
  {
   "cell_type": "code",
   "execution_count": 53,
   "metadata": {},
   "outputs": [
    {
     "data": {
      "text/plain": [
       "5"
      ]
     },
     "execution_count": 53,
     "metadata": {},
     "output_type": "execute_result"
    }
   ],
   "source": [
    "node.chieucao_tree()"
   ]
  },
  {
   "cell_type": "code",
   "execution_count": 54,
   "metadata": {},
   "outputs": [
    {
     "name": "stdout",
     "output_type": "stream",
     "text": [
      "MASV: SV1, HoTen: Nguyen Van A, MaLop: 111, DiemTB: 7.5\n",
      "MASV: SV2, HoTen: Cao Thi C, MaLop: 112, DiemTB: 7\n",
      "MASV: SV3, HoTen: Huynh Minh D, MaLop: 113, DiemTB: 8\n",
      "MASV: SV4, HoTen: Le Thi h, MaLop: 114, DiemTB: 8.5\n"
     ]
    }
   ],
   "source": [
    "masv_xoa = input(\"Nhập MASV cần xoá: \")\n",
    "root = node.delete_node(masv_xoa)\n",
    "root.LNR()"
   ]
  },
  {
   "cell_type": "code",
   "execution_count": 55,
   "metadata": {},
   "outputs": [],
   "source": [
    "them_sinhvien(node)"
   ]
  },
  {
   "cell_type": "code",
   "execution_count": 56,
   "metadata": {},
   "outputs": [
    {
     "name": "stdout",
     "output_type": "stream",
     "text": [
      "MASV: 23673071, HoTen: Huynh Gia Han, MaLop: 116, DiemTB: 8.0\n",
      "MASV: SV1, HoTen: Nguyen Van A, MaLop: 111, DiemTB: 7.5\n",
      "MASV: SV2, HoTen: Cao Thi C, MaLop: 112, DiemTB: 7\n",
      "MASV: SV3, HoTen: Huynh Minh D, MaLop: 113, DiemTB: 8\n",
      "MASV: SV4, HoTen: Le Thi h, MaLop: 114, DiemTB: 8.5\n"
     ]
    }
   ],
   "source": [
    "node.LNR()"
   ]
  }
 ],
 "metadata": {
  "kernelspec": {
   "display_name": "Python 3",
   "language": "python",
   "name": "python3"
  },
  "language_info": {
   "codemirror_mode": {
    "name": "ipython",
    "version": 3
   },
   "file_extension": ".py",
   "mimetype": "text/x-python",
   "name": "python",
   "nbconvert_exporter": "python",
   "pygments_lexer": "ipython3",
   "version": "3.13.2"
  }
 },
 "nbformat": 4,
 "nbformat_minor": 2
}
