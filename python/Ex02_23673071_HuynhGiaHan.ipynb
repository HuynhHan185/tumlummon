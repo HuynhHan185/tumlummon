{
 "cells": [
  {
   "cell_type": "code",
   "execution_count": 4,
   "metadata": {},
   "outputs": [],
   "source": [
    "class Course:\n",
    "    def __init__(self, code, title, credits, instructor, capacity):\n",
    "        self.code = code\n",
    "        self.title = title\n",
    "        self.credits = credits\n",
    "        self.instructor = instructor\n",
    "        self.capacity = capacity\n",
    "        self.enrollment_count = 0\n",
    "        self.students_head = None \n",
    "        self.next = None\n",
    "\n",
    "    def enroll_student(self, student_id):\n",
    "        if self.enrollment_count >= self.capacity:\n",
    "            print(f\"Khóa học {self.code} đã đầy. Không thể đăng ký thêm\")\n",
    "            return\n",
    "        new_student = StudentNode(student_id)\n",
    "        new_student.next = self.students_head\n",
    "        self.students_head = new_student\n",
    "        self.enrollment_count += 1\n",
    "\n",
    "    def drop_student(self, student_id):\n",
    "        if not self.students_head:\n",
    "            print(f\"Không có sinh viên nào đăng ký khóa học {self.code}\")\n",
    "            return\n",
    "        if self.students_head.student_id == student_id:\n",
    "            self.students_head = self.students_head.next\n",
    "            self.enrollment_count -= 1\n",
    "            return\n",
    "        current = self.students_head\n",
    "        while current.next and current.next.student_id != student_id:\n",
    "            current = current.next\n",
    "        if current.next:\n",
    "            current.next = current.next.next\n",
    "            self.enrollment_count -= 1\n",
    "        else:\n",
    "            print(f\"Sinh viên {student_id} không có trong danh sách đăng ký của khóa học {self.code}\")\n",
    "\n",
    "    def list_students(self):\n",
    "        current = self.students_head\n",
    "        students_list = []\n",
    "        while current:\n",
    "            students_list.append(current.student_id)\n",
    "            current = current.next\n",
    "        return students_list\n",
    "\n",
    "    def __str__(self):\n",
    "        return f\"Code: {self.code}, Title: {self.title}, Credits: {self.credits}, Instructor: {self.instructor}, Số lượng tối đa: {self.capacity}, Đã đăng ký: {self.enrollment_count}\""
   ]
  },
  {
   "cell_type": "code",
   "execution_count": 3,
   "metadata": {},
   "outputs": [],
   "source": [
    "class StudentNode:\n",
    "    def __init__(self, student_id):\n",
    "        self.student_id = student_id\n",
    "        self.next = None"
   ]
  },
  {
   "cell_type": "code",
   "execution_count": 36,
   "metadata": {},
   "outputs": [],
   "source": [
    "class CourseList:\n",
    "    def __init__(self):\n",
    "        self.head = None\n",
    "\n",
    "    def is_empty(self):\n",
    "        return self.head is None\n",
    "\n",
    "    def add_course_first(self, code, title, credits, instructor, capacity):\n",
    "        new_course = Course(code, title, credits, instructor, capacity)\n",
    "        new_course.next = self.head\n",
    "        self.head = new_course\n",
    "\n",
    "    def add_course_end(self, code, title, credits, instructor, capacity):\n",
    "        new_course = Course(code, title, credits, instructor, capacity)\n",
    "        if self.is_empty():\n",
    "            self.head = new_course\n",
    "            return\n",
    "        current = self.head\n",
    "        while current.next:\n",
    "            current = current.next\n",
    "        current.next = new_course\n",
    "\n",
    "    def add_course_after(self, target_code, code, title, credits, instructor, capacity):\n",
    "        current = self.head\n",
    "        while current:\n",
    "            if current.code == target_code:\n",
    "                new_course = Course(code, title, credits, instructor, capacity)\n",
    "                new_course.next = current.next\n",
    "                current.next = new_course\n",
    "                return\n",
    "            current = current.next\n",
    "        print(f\"Không tìm thấy khóa học có mã {target_code} để chèn vào sau\")\n",
    "\n",
    "    def display(self):\n",
    "        if self.is_empty():\n",
    "            print(\"Danh sách rỗng\")\n",
    "            return\n",
    "        current = self.head\n",
    "        while current:\n",
    "            print(current)\n",
    "            current = current.next\n",
    "\n",
    "    def find_course(self, code):\n",
    "        current = self.head\n",
    "        while current:\n",
    "            if current.code == code:\n",
    "                return current\n",
    "            current = current.next\n",
    "        return None\n",
    "\n",
    "    def update_course(self, code, title=None, credits=None, instructor=None, capacity=None):\n",
    "        course = self.find_course(code)\n",
    "        if course:\n",
    "            if title: \n",
    "                course.title = title\n",
    "            if credits: \n",
    "                course.credits = credits\n",
    "            if instructor: \n",
    "                course.instructor = instructor\n",
    "            if capacity: \n",
    "                course.capacity = capacity\n",
    "            print(\"Cập nhật khóa học thành công\")\n",
    "        else:\n",
    "            print(f\"Không tìm thấy khóa học {code} để cập nhật\")\n",
    "\n",
    "    def remove_course_first(self):\n",
    "        if self.head:\n",
    "            self.head = self.head.next\n",
    "        else:\n",
    "            print(\"Danh sách khóa học rỗng\")\n",
    "\n",
    "    def remove_course_last(self):\n",
    "        if not self.head:\n",
    "            print(\"Danh sách khóa học rỗng\")\n",
    "            return\n",
    "        if not self.head.next:\n",
    "            self.head = None\n",
    "            return\n",
    "        current = self.head\n",
    "        while current.next.next:\n",
    "            current = current.next\n",
    "        current.next = None\n",
    "\n",
    "    def remove_course_by_code(self, code):\n",
    "        if not self.head:\n",
    "            print(\"Danh sách khóa học rỗng\")\n",
    "            return\n",
    "        if self.head.code == code:\n",
    "            self.head = self.head.next\n",
    "            return\n",
    "        current = self.head\n",
    "        while current.next and current.next.code != code:\n",
    "            current = current.next\n",
    "        if current.next:\n",
    "            current.next = current.next.next\n",
    "        else:\n",
    "            print(f\"Không tìm thấy khóa học {code} để xóa\")\n",
    "\n",
    "    def enroll_student(self, student_id):\n",
    "        if self.enrollment_count >= self.capacity:\n",
    "            print(f\"Khóa học {self.code} đã đầy. Không thể đăng ký thêm\")\n",
    "            return\n",
    "        new_student = StudentNode(student_id)\n",
    "        new_student.next = self.students_head\n",
    "        self.students_head = new_student\n",
    "        self.enrollment_count += 1\n",
    "\n",
    "    def drop_student(self, student_id):\n",
    "        if not self.students_head:\n",
    "            print(f\"Không có sinh viên nào đăng ký khóa học {self.code}\")\n",
    "            return\n",
    "        if self.students_head.student_id == student_id:\n",
    "            self.students_head = self.students_head.next\n",
    "            self.enrollment_count -= 1\n",
    "            return\n",
    "        current = self.students_head\n",
    "        while current.next and current.next.student_id != student_id:\n",
    "            current = current.next\n",
    "        if current.next:\n",
    "            current.next = current.next.next\n",
    "            self.enrollment_count -= 1\n",
    "        else:\n",
    "            print(f\"Sinh viên {student_id} không có trong danh sách đăng ký của khóa học {self.code}\")\n",
    "\n",
    "    def list_students(self):\n",
    "        current = self.students_head\n",
    "        students_list = []\n",
    "        while current:\n",
    "            students_list.append(current.student_id)\n",
    "            current = current.next\n",
    "        return students_list\n",
    "\n",
    "    \n",
    "    def calculate_statistics(self):\n",
    "        if not self.head:\n",
    "            print(\"Không có khóa học nào!\")\n",
    "            return\n",
    "        max_course = min_course = self.head\n",
    "        current = self.head.next\n",
    "        while current:\n",
    "            if current.enrollment_count > max_course.enrollment_count:\n",
    "                max_course = current\n",
    "            if current.enrollment_count < min_course.enrollment_count:\n",
    "                min_course = current\n",
    "            current = current.next\n",
    "        print(f\"Khóa học đông nhất: {max_course.code} ({max_course.enrollment_count} sinh viên)\")\n",
    "        print(f\"Khóa học ít sinh viên nhất: {min_course.code} ({min_course.enrollment_count} sinh viên)\")\n",
    "\n",
    "    def sort_courses(self, by_enrollment=True):\n",
    "        if not self.head or not self.head.next:\n",
    "            return\n",
    "        sorted = False\n",
    "        while not sorted:\n",
    "            sorted = True\n",
    "            current = self.head\n",
    "            while current.next:\n",
    "                if (by_enrollment and current.enrollment_count < current.next.enrollment_count) or \\\n",
    "                   (not by_enrollment and current.title > current.next.title):\n",
    "                    current.code, current.next.code = current.next.code, current.code\n",
    "                    current.title, current.next.title = current.next.title, current.title\n",
    "                    current.credits, current.next.credits = current.next.credits, current.credits\n",
    "                    current.instructor, current.next.instructor = current.next.instructor, current.instructor\n",
    "                    current.capacity, current.next.capacity = current.next.capacity, current.capacity\n",
    "                    current.enrollment_count, current.next.enrollment_count = current.next.enrollment_count, current.enrollment_count\n",
    "                    sorted = False\n",
    "                current = current.next\n",
    "\n",
    "    def save_to_file(self, filename):\n",
    "        with open(filename, 'w', encoding='utf-8') as f:\n",
    "            current = self.head\n",
    "            while current:\n",
    "                f.write(f\"{current.code}, {current.title}, {current.credits}, {current.instructor}, {current.capacity}, {current.enrollment_count}\\n\")\n",
    "                current = current.next"
   ]
  },
  {
   "cell_type": "code",
   "execution_count": 37,
   "metadata": {},
   "outputs": [],
   "source": [
    "ds = CourseList()"
   ]
  },
  {
   "cell_type": "code",
   "execution_count": 38,
   "metadata": {},
   "outputs": [],
   "source": [
    "ds.add_course_first(\"100\", \"Lập trình Python\", 3, \"A\", 50)\n",
    "ds.add_course_first(\"101\", \"Anh van 3\", 4, \"B\", 40)\n",
    "ds.add_course_end(\"103\", \"Lập trình Java\", 3, \"C\", 45)\n",
    "ds.add_course_end(\"104\", \"Toan CC2\", 2, \"D\", 43)\n",
    "ds.add_course_after(\"100\", \"102\", \"He quan tri CSDL\", 4, \"E\", 47)"
   ]
  },
  {
   "cell_type": "code",
   "execution_count": 39,
   "metadata": {},
   "outputs": [
    {
     "name": "stdout",
     "output_type": "stream",
     "text": [
      "Code: 101, Title: Anh van 3, Credits: 4, Instructor: B, Số lượng tối đa: 40, Đã đăng ký: 0\n",
      "Code: 100, Title: Lập trình Python, Credits: 3, Instructor: A, Số lượng tối đa: 50, Đã đăng ký: 0\n",
      "Code: 102, Title: He quan tri CSDL, Credits: 4, Instructor: E, Số lượng tối đa: 47, Đã đăng ký: 0\n",
      "Code: 103, Title: Lập trình Java, Credits: 3, Instructor: C, Số lượng tối đa: 45, Đã đăng ký: 0\n",
      "Code: 104, Title: Toan CC2, Credits: 2, Instructor: D, Số lượng tối đa: 43, Đã đăng ký: 0\n"
     ]
    }
   ],
   "source": [
    "ds.display()"
   ]
  },
  {
   "cell_type": "code",
   "execution_count": 40,
   "metadata": {},
   "outputs": [
    {
     "name": "stdout",
     "output_type": "stream",
     "text": [
      "Code: 100, Title: Lập trình Python, Credits: 3, Instructor: A, Số lượng tối đa: 50, Đã đăng ký: 0\n"
     ]
    }
   ],
   "source": [
    "print(ds.find_course(\"100\"))"
   ]
  },
  {
   "cell_type": "code",
   "execution_count": 41,
   "metadata": {},
   "outputs": [
    {
     "name": "stdout",
     "output_type": "stream",
     "text": [
      "Cập nhật khóa học thành công\n",
      "Code: 101, Title: Anh van 3, Credits: 4, Instructor: B, Số lượng tối đa: 42 (Updated), Đã đăng ký: 0\n",
      "Code: 100, Title: Lập trình Python, Credits: 3, Instructor: A, Số lượng tối đa: 50, Đã đăng ký: 0\n",
      "Code: 102, Title: He quan tri CSDL, Credits: 4, Instructor: E, Số lượng tối đa: 47, Đã đăng ký: 0\n",
      "Code: 103, Title: Lập trình Java, Credits: 3, Instructor: C, Số lượng tối đa: 45, Đã đăng ký: 0\n",
      "Code: 104, Title: Toan CC2, Credits: 2, Instructor: D, Số lượng tối đa: 43, Đã đăng ký: 0\n"
     ]
    }
   ],
   "source": [
    "ds.update_course(\"101\", \"Anh van 3\", 4, \"B\", \"42 (Updated)\")\n",
    "ds.display()"
   ]
  },
  {
   "cell_type": "code",
   "execution_count": 42,
   "metadata": {},
   "outputs": [
    {
     "name": "stdout",
     "output_type": "stream",
     "text": [
      "Code: 100, Title: Lập trình Python, Credits: 3, Instructor: A, Số lượng tối đa: 50, Đã đăng ký: 0\n",
      "Code: 102, Title: He quan tri CSDL, Credits: 4, Instructor: E, Số lượng tối đa: 47, Đã đăng ký: 0\n",
      "Code: 103, Title: Lập trình Java, Credits: 3, Instructor: C, Số lượng tối đa: 45, Đã đăng ký: 0\n",
      "Code: 104, Title: Toan CC2, Credits: 2, Instructor: D, Số lượng tối đa: 43, Đã đăng ký: 0\n"
     ]
    }
   ],
   "source": [
    "ds.remove_course_first()\n",
    "ds.display()"
   ]
  },
  {
   "cell_type": "code",
   "execution_count": 43,
   "metadata": {},
   "outputs": [
    {
     "name": "stdout",
     "output_type": "stream",
     "text": [
      "Code: 100, Title: Lập trình Python, Credits: 3, Instructor: A, Số lượng tối đa: 50, Đã đăng ký: 0\n",
      "Code: 102, Title: He quan tri CSDL, Credits: 4, Instructor: E, Số lượng tối đa: 47, Đã đăng ký: 0\n",
      "Code: 103, Title: Lập trình Java, Credits: 3, Instructor: C, Số lượng tối đa: 45, Đã đăng ký: 0\n"
     ]
    }
   ],
   "source": [
    "ds.remove_course_last()\n",
    "ds.display()"
   ]
  },
  {
   "cell_type": "code",
   "execution_count": 44,
   "metadata": {},
   "outputs": [
    {
     "name": "stdout",
     "output_type": "stream",
     "text": [
      "Code: 100, Title: Lập trình Python, Credits: 3, Instructor: A, Số lượng tối đa: 50, Đã đăng ký: 0\n",
      "Code: 103, Title: Lập trình Java, Credits: 3, Instructor: C, Số lượng tối đa: 45, Đã đăng ký: 0\n"
     ]
    }
   ],
   "source": [
    "ds.remove_course_by_code(\"102\")\n",
    "ds.display()"
   ]
  },
  {
   "cell_type": "code",
   "execution_count": 45,
   "metadata": {},
   "outputs": [
    {
     "name": "stdout",
     "output_type": "stream",
     "text": [
      "Danh sách sinh viên 100: [1003, 1002, 1001]\n"
     ]
    }
   ],
   "source": [
    "course = ds.find_course(\"100\")\n",
    "if course:\n",
    "    course.enroll_student(1001)\n",
    "    course.enroll_student(1002)\n",
    "    course.enroll_student(1003) \n",
    "    print(\"Danh sách sinh viên 100:\", course.list_students())\n",
    "else:\n",
    "    print(\"Không tìm thấy khóa học 100\")"
   ]
  },
  {
   "cell_type": "code",
   "execution_count": 46,
   "metadata": {},
   "outputs": [
    {
     "name": "stdout",
     "output_type": "stream",
     "text": [
      "Danh sách sinh viên 103: [1011, 1010, 1009, 1008, 1007]\n"
     ]
    }
   ],
   "source": [
    "course = ds.find_course(\"103\")\n",
    "if course:\n",
    "    course.enroll_student(1007)\n",
    "    course.enroll_student(1008)\n",
    "    course.enroll_student(1009) \n",
    "    course.enroll_student(1010) \n",
    "    course.enroll_student(1011) \n",
    "    print(\"Danh sách sinh viên 103:\", course.list_students())\n",
    "else:\n",
    "    print(\"Không tìm thấy khóa học 103\")"
   ]
  },
  {
   "cell_type": "code",
   "execution_count": 47,
   "metadata": {},
   "outputs": [
    {
     "name": "stdout",
     "output_type": "stream",
     "text": [
      "Code: 100, Title: Lập trình Python, Credits: 3, Instructor: A, Số lượng tối đa: 50, Đã đăng ký: 3\n",
      "Code: 103, Title: Lập trình Java, Credits: 3, Instructor: C, Số lượng tối đa: 45, Đã đăng ký: 5\n"
     ]
    }
   ],
   "source": [
    "ds.display()"
   ]
  },
  {
   "cell_type": "code",
   "execution_count": 48,
   "metadata": {},
   "outputs": [
    {
     "name": "stdout",
     "output_type": "stream",
     "text": [
      "Danh sách sinh viên 103 sau khi hủy: [1011, 1010, 1008, 1007]\n"
     ]
    }
   ],
   "source": [
    "course = ds.find_course(\"103\") \n",
    "if course:\n",
    "    course.drop_student(1009)\n",
    "    print(\"Danh sách sinh viên 103 sau khi hủy:\", course.list_students())\n",
    "else:\n",
    "    print(\"Không tìm thấy khóa học 103\")"
   ]
  },
  {
   "cell_type": "code",
   "execution_count": 49,
   "metadata": {},
   "outputs": [
    {
     "name": "stdout",
     "output_type": "stream",
     "text": [
      "Khóa học đông nhất: 103 (4 sinh viên)\n",
      "Khóa học ít sinh viên nhất: 100 (3 sinh viên)\n"
     ]
    }
   ],
   "source": [
    "ds.calculate_statistics()"
   ]
  },
  {
   "cell_type": "code",
   "execution_count": 50,
   "metadata": {},
   "outputs": [
    {
     "name": "stdout",
     "output_type": "stream",
     "text": [
      "Code: 103, Title: Lập trình Java, Credits: 3, Instructor: C, Số lượng tối đa: 45, Đã đăng ký: 4\n",
      "Code: 100, Title: Lập trình Python, Credits: 3, Instructor: A, Số lượng tối đa: 50, Đã đăng ký: 3\n"
     ]
    }
   ],
   "source": [
    "ds.sort_courses(by_enrollment=True)\n",
    "ds.display()"
   ]
  },
  {
   "cell_type": "code",
   "execution_count": 51,
   "metadata": {},
   "outputs": [],
   "source": [
    "ds.save_to_file(\"courses.txt\")"
   ]
  }
 ],
 "metadata": {
  "kernelspec": {
   "display_name": "Python 3",
   "language": "python",
   "name": "python3"
  },
  "language_info": {
   "codemirror_mode": {
    "name": "ipython",
    "version": 3
   },
   "file_extension": ".py",
   "mimetype": "text/x-python",
   "name": "python",
   "nbconvert_exporter": "python",
   "pygments_lexer": "ipython3",
   "version": "3.13.2"
  }
 },
 "nbformat": 4,
 "nbformat_minor": 2
}
