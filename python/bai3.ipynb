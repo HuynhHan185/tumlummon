{
 "cells": [
  {
   "cell_type": "code",
   "execution_count": 30,
   "metadata": {},
   "outputs": [],
   "source": [
    "class Node:\n",
    "    def __init__(self, data):\n",
    "        self.data = data\n",
    "        self.left = None\n",
    "        self.right = None\n",
    "\n",
    "    def insert_tree(self, number):\n",
    "        if self.data:\n",
    "            if number < self.data:\n",
    "                if self.left is None:\n",
    "                    self.left = Node(number)\n",
    "                else:\n",
    "                    self.left.insert_tree(number)\n",
    "            elif number > self.data:\n",
    "                if self.right is None:\n",
    "                    self.right = Node(number)\n",
    "                else:\n",
    "                    self.right.insert_tree(number)\n",
    "\n",
    "    def LNR(self): \n",
    "        if self.left:\n",
    "            self.left.LNR()\n",
    "        print(self.data)\n",
    "        if self.right:\n",
    "            self.right.LNR()\n",
    "\n",
    "    def dem_nut_la(self):\n",
    "        if self.left is None and self.right is None:\n",
    "            return 1\n",
    "        left_count = self.left.dem_nut_la() if self.left else 0\n",
    "        right_count = self.right.dem_nut_la() if self.right else 0\n",
    "        return left_count + right_count    \n",
    "\n",
    "    def chieucao_tree(self):\n",
    "        if self is None:\n",
    "            return 0\n",
    "        left_height = self.left.chieucao_tree() if self.left else 0\n",
    "        right_height = self.right.chieucao_tree() if self.right else 0\n",
    "        return 1 + max(left_height, right_height)      \n",
    "\n",
    "    def search(self, item):\n",
    "        if self.data == item:\n",
    "            return self\n",
    "        elif item < self.data and self.left:\n",
    "            return self.left.search(item)\n",
    "        elif item > self.data and self.right:\n",
    "            return self.right.search(item)  \n",
    "\n",
    "    def delete_node(self, key):\n",
    "        if key < self.data:\n",
    "            if self.left:\n",
    "                self.left = self.left.delete_node(key)\n",
    "        elif key > self.data:\n",
    "            if self.right:\n",
    "                self.right = self.right.delete_node(key)\n",
    "        else:\n",
    "            if self.left is None:\n",
    "                return self.right\n",
    "            elif self.right is None:\n",
    "                return self.left\n",
    "            \n",
    "            min_larger_node = self.right.find_min() \n",
    "            self.data = min_larger_node.data\n",
    "            self.right = self.right.delete_node(min_larger_node.data)\n",
    "\n",
    "        return self\n",
    "\n",
    "    def find_min(self):\n",
    "        current = self\n",
    "        while current.left is not None:\n",
    "            current = current.left\n",
    "        return current\n",
    "\n"
   ]
  },
  {
   "cell_type": "code",
   "execution_count": 31,
   "metadata": {},
   "outputs": [
    {
     "name": "stdout",
     "output_type": "stream",
     "text": [
      "2\n",
      "3\n",
      "5\n",
      "10\n",
      "12\n",
      "15\n",
      "18\n"
     ]
    }
   ],
   "source": [
    "node_root = Node(12)\n",
    "node_root.insert_tree(10)\n",
    "node_root.insert_tree(15)\n",
    "node_root.insert_tree(2)\n",
    "node_root.insert_tree(18)\n",
    "node_root.insert_tree(3)\n",
    "node_root.insert_tree(5)\n",
    "\n",
    "node_root.LNR()"
   ]
  },
  {
   "cell_type": "code",
   "execution_count": 32,
   "metadata": {},
   "outputs": [
    {
     "data": {
      "text/plain": [
       "2"
      ]
     },
     "execution_count": 32,
     "metadata": {},
     "output_type": "execute_result"
    }
   ],
   "source": [
    "node_root.dem_nut_la()"
   ]
  },
  {
   "cell_type": "code",
   "execution_count": 33,
   "metadata": {},
   "outputs": [
    {
     "data": {
      "text/plain": [
       "5"
      ]
     },
     "execution_count": 33,
     "metadata": {},
     "output_type": "execute_result"
    }
   ],
   "source": [
    "node_root.chieucao_tree()"
   ]
  },
  {
   "cell_type": "code",
   "execution_count": 34,
   "metadata": {},
   "outputs": [
    {
     "name": "stdout",
     "output_type": "stream",
     "text": [
      "2\n",
      "3\n",
      "5\n",
      "10\n",
      "12\n",
      "15\n",
      "18\n"
     ]
    }
   ],
   "source": [
    "node_root.search(12)\n",
    "node_root.LNR()"
   ]
  },
  {
   "cell_type": "code",
   "execution_count": 36,
   "metadata": {},
   "outputs": [
    {
     "name": "stdout",
     "output_type": "stream",
     "text": [
      "2\n",
      "3\n",
      "5\n",
      "10\n",
      "12\n",
      "15\n"
     ]
    }
   ],
   "source": [
    "node_root.delete_node(18)\n",
    "node_root.LNR()"
   ]
  }
 ],
 "metadata": {
  "kernelspec": {
   "display_name": "Python 3",
   "language": "python",
   "name": "python3"
  },
  "language_info": {
   "codemirror_mode": {
    "name": "ipython",
    "version": 3
   },
   "file_extension": ".py",
   "mimetype": "text/x-python",
   "name": "python",
   "nbconvert_exporter": "python",
   "pygments_lexer": "ipython3",
   "version": "3.13.2"
  }
 },
 "nbformat": 4,
 "nbformat_minor": 2
}
