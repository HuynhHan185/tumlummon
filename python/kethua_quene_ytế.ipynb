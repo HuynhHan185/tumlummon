{
 "cells": [
  {
   "cell_type": "code",
   "execution_count": 51,
   "metadata": {},
   "outputs": [],
   "source": [
    "class HealthcareProfessional:\n",
    "    def __init__(self, id, name, age, department):\n",
    "        self.id = id\n",
    "        self.name = name\n",
    "        self.age = age\n",
    "        self.department = department\n",
    "\n",
    "    def __str__(self):\n",
    "        return f\"ID: {self.id}, Name: {self.name}, Age: {self.age}, Department: {self.department}\"\n",
    "    \n",
    "    def __repr__(self):\n",
    "        return self.__str__()"
   ]
  },
  {
   "cell_type": "code",
   "execution_count": 52,
   "metadata": {},
   "outputs": [],
   "source": [
    "class Doctor(HealthcareProfessional):\n",
    "    def __init__(self, id, name, age, department, specialization, years_experience):\n",
    "        super().__init__(id, name, age, department)\n",
    "        self.specialization = specialization\n",
    "        self.years_experience = years_experience\n",
    "\n",
    "    def __str__(self):\n",
    "        return super().__str__() + f\", Specialization: {self.specialization}, Years Experience: {self.years_experience}\"\n",
    "    \n",
    "    def __repr__(self):\n",
    "        return self.__str__()"
   ]
  },
  {
   "cell_type": "code",
   "execution_count": 53,
   "metadata": {},
   "outputs": [],
   "source": [
    "class Nurse(HealthcareProfessional):\n",
    "    def __init__(self, id, name, age, department, certification, shift):\n",
    "        super().__init__(id, name, age, department)\n",
    "        self.certification = certification\n",
    "        self.shift = shift\n",
    "\n",
    "    def __str__(self):\n",
    "        return super().__str__() + f\", Certification: {self.certification}, Shift: {self.shift}\"\n",
    "    \n",
    "    def __repr__(self):\n",
    "        return self.__str__()"
   ]
  },
  {
   "cell_type": "code",
   "execution_count": 54,
   "metadata": {},
   "outputs": [],
   "source": [
    "import collections\n",
    "\n",
    "class Queue:\n",
    "    def __init__(self):\n",
    "        self.queue = collections.deque()\n",
    "\n",
    "    def is_empty(self):\n",
    "        return len(self.queue) == 0  \n",
    "\n",
    "    def __str__(self):\n",
    "        if self.is_empty():\n",
    "            return \"Queue is empty\"\n",
    "        else:\n",
    "            return \"\\n\".join(str(item) for item in self.queue)\n",
    "\n",
    "    def push(self, item):\n",
    "        self.queue.append(item) \n",
    "        return item\n",
    "\n",
    "    def pop(self):\n",
    "        if self.is_empty():\n",
    "            return \"Queue is empty\"\n",
    "        else:\n",
    "            return self.queue.popleft()  "
   ]
  },
  {
   "cell_type": "code",
   "execution_count": 71,
   "metadata": {},
   "outputs": [],
   "source": [
    "import json\n",
    "\n",
    "class HealthcareManagement:\n",
    "    def __init__(self):\n",
    "        self.ds = Queue()\n",
    "\n",
    "    def add_professional(self):\n",
    "        print(\"Chọn loại chuyên gia y tế:\")\n",
    "        print(\"1. Chuyên gia bình thường\")\n",
    "        print(\"2. Bác sĩ\")\n",
    "        print(\"3. Y tá\")\n",
    "        choice = int(input(\"Chọn một số từ 1-3: \"))\n",
    "\n",
    "        id = int(input(\"Nhập ID: \"))\n",
    "        name = input(\"Nhập họ và tên: \")\n",
    "        age = int(input(\"Nhập tuổi: \"))\n",
    "        department = input(\"Nhập khoa: \")\n",
    "\n",
    "        if choice == 1:\n",
    "            professional = HealthcareProfessional(id, name, age, department)\n",
    "        elif choice == 2:\n",
    "            specialization = input(\"Nhập chuyên khoa: \")\n",
    "            years_experience = int(input(\"Nhập số năm kinh nghiệm: \"))\n",
    "            professional = Doctor(id, name, age, department, specialization, years_experience)\n",
    "        elif choice == 3:\n",
    "            certification = input(\"Nhập chứng nhận: \")\n",
    "            shift = input(\"Nhập ca làm việc: \")\n",
    "            professional = Nurse(id, name, age, department, certification, shift)\n",
    "        else:\n",
    "            print(\"Lỗi\")\n",
    "            return\n",
    "        self.ds.push(professional)\n",
    "\n",
    "    def display(self):\n",
    "        if self.ds.is_empty():\n",
    "            print(\"Danh sách chuyên gia y tế trống\")\n",
    "            return\n",
    "        for prof in self.ds.queue:\n",
    "            print(prof)\n",
    "\n",
    "    def remove_professional(self): #mac dinh xoa id dau tien\n",
    "        removed = self.ds.pop()\n",
    "        if removed == \"Queue is empty\":\n",
    "            print(\"Không có nhân viên y tế nào để xoá\")\n",
    "        else:\n",
    "            print(f\"Đã xoá: {removed}\")\n",
    "\n",
    "    def search_id(self, id):\n",
    "        for professional in self.ds.queue:\n",
    "            if professional.id == id: #khi chạy kiểm thử thì nhớ (\"id\")\n",
    "                return professional\n",
    "        return None\n",
    "\n",
    "    def update_professional(self):\n",
    "        id = input(\"Nhập ID nhân viên cần cập nhật: \")\n",
    "        professional = self.search_id(id)\n",
    "\n",
    "        if professional is None:\n",
    "            print(\"Không tìm thấy nhân viên\")\n",
    "            return\n",
    "\n",
    "        name = input(\"Nhập tên mới (Enter để giữ nguyên): \")\n",
    "        age = input(\"Nhập tuổi mới (Enter để giữ nguyên): \")\n",
    "        department = input(\"Nhập khoa mới (Enter để giữ nguyên): \")\n",
    "\n",
    "        if name: \n",
    "            professional.name = name\n",
    "        if age: \n",
    "            professional.age = int(age)\n",
    "        if department: \n",
    "            professional.department = department\n",
    "\n",
    "        print(\"Cập nhật thành công\")\n",
    "\n",
    "    def find_most_experienced_doctor(self):\n",
    "        doctors = [s for s in self.ds.queue if isinstance(s, Doctor)]\n",
    "        if not doctors:\n",
    "            return [] \n",
    "        \n",
    "        max_experience = max(d.years_experience for d in doctors)\n",
    "        return [d for d in doctors if d.years_experience == max_experience]\n",
    "\n",
    "\n",
    "    def find_oldest_professional(self):\n",
    "        if self.ds.is_empty():\n",
    "            return []\n",
    "    \n",
    "        max_age = max(int(ps.age) for ps in self.ds.queue)  \n",
    "        oldest_professional = [ps for ps in self.ds.queue if int(ps.age) == max_age]  \n",
    "\n",
    "        return oldest_professional  \n",
    "    \n",
    "    def bubble_sort_experience(self):\n",
    "        doctors = [p for p in self.ds.queue if isinstance(p, Doctor)]\n",
    "        n = len(doctors)\n",
    "        for i in range(n - 1):\n",
    "            for j in range(n - i - 1):\n",
    "                if doctors[j].years_experience < doctors[j + 1].years_experience:\n",
    "                    doctors[j], doctors[j + 1] = doctors[j + 1], doctors[j]\n",
    "\n",
    "    def selection_sort_id(self):\n",
    "        n = len(self.ds.queue)\n",
    "        for i in range(n - 1):\n",
    "            min_idx = i\n",
    "            for j in range(i + 1, n):\n",
    "                if self.ds.queue[j].id < self.ds.queue[min_idx].id:\n",
    "                    min_idx = j\n",
    "            self.ds.queue[i], self.ds.queue[min_idx] = self.ds.queue[min_idx], self.ds.queue[i]\n",
    "\n",
    "    def count_by_department(self):\n",
    "        count = {}\n",
    "        for prof in self.ds.queue:\n",
    "            count[prof.department] = count.get(prof.department, 0) + 1\n",
    "        return count\n",
    "\n",
    "    def save_to_file(self, filename=\"professionals.json\"):\n",
    "        with open(filename, 'w', encoding='utf-8') as f:\n",
    "            json.dump([prof.__dict__ for prof in self.ds.queue], f, indent=4)\n",
    "        print(f\"Dữ liệu đã được lưu vào {filename}.\")\n",
    "\n",
    "    def load_from_file(self, filename=\"professionals.json\"):\n",
    "        try:\n",
    "            with open(filename, \"r\", encoding=\"utf-8\") as f:\n",
    "                data = json.load(f) \n",
    "        \n",
    "            self.ds.queue = [] \n",
    "\n",
    "            for prof in data:\n",
    "                if \"specialization\" in prof: \n",
    "                    obj = Doctor(prof[\"id\"], prof[\"name\"], prof[\"age\"], prof[\"department\"], prof[\"specialization\"], prof[\"years_experience\"])\n",
    "                elif \"certification\" in prof: \n",
    "                    obj = Nurse(prof[\"id\"], prof[\"name\"], prof[\"age\"], prof[\"department\"], prof[\"certification\"], prof[\"shift\"])\n",
    "                else: \n",
    "                    obj = HealthcareProfessional(prof[\"id\"], prof[\"name\"], prof[\"age\"], prof[\"department\"])\n",
    "                self.ds.queue.append(obj)\n",
    "\n",
    "            print(f\"Dữ liệu đã được đọc từ {filename}\")\n",
    "    \n",
    "        except FileNotFoundError:\n",
    "            print(f\" Không tìm thấy file {filename}\")\n",
    "        except json.JSONDecodeError:\n",
    "            print(\"File JSON không đúng định dạng\")"
   ]
  },
  {
   "cell_type": "code",
   "execution_count": 72,
   "metadata": {},
   "outputs": [],
   "source": [
    "ql = HealthcareManagement()"
   ]
  },
  {
   "cell_type": "code",
   "execution_count": 73,
   "metadata": {},
   "outputs": [
    {
     "data": {
      "text/plain": [
       "ID: 4, Name: Hoa, Age: 27, Department: Khoa D, Certification: tốt, Shift: sáng"
      ]
     },
     "execution_count": 73,
     "metadata": {},
     "output_type": "execute_result"
    }
   ],
   "source": [
    "ql1 = HealthcareProfessional(\"1\", \"Nguyen Van A\", 30, \"Khoa A\")\n",
    "ql2 = HealthcareProfessional(\"2\", \"Tran Thi B\", 25, \"Khoa B\")\n",
    "ql3 = Doctor(\"3\", \"Quang\", 40, \"Khoa C\", \"Nội soi\", 10)\n",
    "ql4 = Nurse(\"4\", \"Hoa\", 27, \"Khoa D\", \"tốt\", \"sáng\")\n",
    "ql.ds.push(ql1)\n",
    "ql.ds.push(ql2)\n",
    "ql.ds.push(ql3)\n",
    "ql.ds.push(ql4) "
   ]
  },
  {
   "cell_type": "code",
   "execution_count": 74,
   "metadata": {},
   "outputs": [
    {
     "name": "stdout",
     "output_type": "stream",
     "text": [
      "ID: 1, Name: Nguyen Van A, Age: 30, Department: Khoa A\n",
      "ID: 2, Name: Tran Thi B, Age: 25, Department: Khoa B\n",
      "ID: 3, Name: Quang, Age: 40, Department: Khoa C, Specialization: Nội soi, Years Experience: 10\n",
      "ID: 4, Name: Hoa, Age: 27, Department: Khoa D, Certification: tốt, Shift: sáng\n"
     ]
    }
   ],
   "source": [
    "ql.display()"
   ]
  },
  {
   "cell_type": "code",
   "execution_count": 75,
   "metadata": {},
   "outputs": [
    {
     "name": "stdout",
     "output_type": "stream",
     "text": [
      "Đã xoá: ID: 1, Name: Nguyen Van A, Age: 30, Department: Khoa A\n",
      "ID: 2, Name: Tran Thi B, Age: 25, Department: Khoa B\n",
      "ID: 3, Name: Quang, Age: 40, Department: Khoa C, Specialization: Nội soi, Years Experience: 10\n",
      "ID: 4, Name: Hoa, Age: 27, Department: Khoa D, Certification: tốt, Shift: sáng\n"
     ]
    }
   ],
   "source": [
    "ql.remove_professional()\n",
    "ql.display()"
   ]
  },
  {
   "cell_type": "code",
   "execution_count": 76,
   "metadata": {},
   "outputs": [
    {
     "name": "stdout",
     "output_type": "stream",
     "text": [
      "ID: 2, Name: Tran Thi B, Age: 25, Department: Khoa B\n"
     ]
    }
   ],
   "source": [
    "print(ql.search_id(\"2\"))"
   ]
  },
  {
   "cell_type": "code",
   "execution_count": 77,
   "metadata": {},
   "outputs": [
    {
     "name": "stdout",
     "output_type": "stream",
     "text": [
      "Cập nhật thành công\n",
      "ID: 2, Name: Tran Thi B, Age: 32, Department: Khoa B\n",
      "ID: 3, Name: Quang, Age: 40, Department: Khoa C, Specialization: Nội soi, Years Experience: 10\n",
      "ID: 4, Name: Hoa, Age: 27, Department: Khoa D, Certification: tốt, Shift: sáng\n"
     ]
    }
   ],
   "source": [
    "ql.update_professional()\n",
    "ql.display()"
   ]
  },
  {
   "cell_type": "code",
   "execution_count": 78,
   "metadata": {},
   "outputs": [
    {
     "name": "stdout",
     "output_type": "stream",
     "text": [
      "[ID: 3, Name: Quang, Age: 40, Department: Khoa C, Specialization: Nội soi, Years Experience: 10]\n"
     ]
    }
   ],
   "source": [
    "print(ql.find_most_experienced_doctor())"
   ]
  },
  {
   "cell_type": "code",
   "execution_count": 79,
   "metadata": {},
   "outputs": [
    {
     "name": "stdout",
     "output_type": "stream",
     "text": [
      "[ID: 3, Name: Quang, Age: 40, Department: Khoa C, Specialization: Nội soi, Years Experience: 10]\n"
     ]
    }
   ],
   "source": [
    "print(ql.find_oldest_professional())"
   ]
  },
  {
   "cell_type": "code",
   "execution_count": 80,
   "metadata": {},
   "outputs": [
    {
     "name": "stdout",
     "output_type": "stream",
     "text": [
      "ID: 2, Name: Tran Thi B, Age: 32, Department: Khoa B\n",
      "ID: 3, Name: Quang, Age: 40, Department: Khoa C, Specialization: Nội soi, Years Experience: 10\n",
      "ID: 4, Name: Hoa, Age: 27, Department: Khoa D, Certification: tốt, Shift: sáng\n"
     ]
    }
   ],
   "source": [
    "ql.bubble_sort_experience()\n",
    "ql.display()"
   ]
  },
  {
   "cell_type": "code",
   "execution_count": 81,
   "metadata": {},
   "outputs": [
    {
     "name": "stdout",
     "output_type": "stream",
     "text": [
      "ID: 2, Name: Tran Thi B, Age: 32, Department: Khoa B\n",
      "ID: 3, Name: Quang, Age: 40, Department: Khoa C, Specialization: Nội soi, Years Experience: 10\n",
      "ID: 4, Name: Hoa, Age: 27, Department: Khoa D, Certification: tốt, Shift: sáng\n"
     ]
    }
   ],
   "source": [
    "ql.selection_sort_id()\n",
    "ql.display()"
   ]
  },
  {
   "cell_type": "code",
   "execution_count": 82,
   "metadata": {},
   "outputs": [
    {
     "name": "stdout",
     "output_type": "stream",
     "text": [
      "{'Khoa B': 1, 'Khoa C': 1, 'Khoa D': 1}\n"
     ]
    }
   ],
   "source": [
    "print(ql.count_by_department())"
   ]
  },
  {
   "cell_type": "code",
   "execution_count": 83,
   "metadata": {},
   "outputs": [
    {
     "name": "stdout",
     "output_type": "stream",
     "text": [
      "Dữ liệu đã được lưu vào professionals.json.\n",
      "ID: 2, Name: Tran Thi B, Age: 32, Department: Khoa B\n",
      "ID: 3, Name: Quang, Age: 40, Department: Khoa C, Specialization: Nội soi, Years Experience: 10\n",
      "ID: 4, Name: Hoa, Age: 27, Department: Khoa D, Certification: tốt, Shift: sáng\n"
     ]
    }
   ],
   "source": [
    "ql.save_to_file(\"professionals.json\")\n",
    "ql.display()"
   ]
  },
  {
   "cell_type": "code",
   "execution_count": 84,
   "metadata": {},
   "outputs": [
    {
     "name": "stdout",
     "output_type": "stream",
     "text": [
      "Dữ liệu đã được đọc từ professionals.json\n"
     ]
    }
   ],
   "source": [
    "ql.load_from_file(\"professionals.json\")"
   ]
  }
 ],
 "metadata": {
  "kernelspec": {
   "display_name": "Python 3",
   "language": "python",
   "name": "python3"
  },
  "language_info": {
   "codemirror_mode": {
    "name": "ipython",
    "version": 3
   },
   "file_extension": ".py",
   "mimetype": "text/x-python",
   "name": "python",
   "nbconvert_exporter": "python",
   "pygments_lexer": "ipython3",
   "version": "3.13.2"
  }
 },
 "nbformat": 4,
 "nbformat_minor": 2
}
