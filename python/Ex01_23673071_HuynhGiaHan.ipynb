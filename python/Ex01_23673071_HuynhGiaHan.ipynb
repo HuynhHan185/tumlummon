{
 "cells": [
  {
   "cell_type": "code",
   "execution_count": 1,
   "metadata": {},
   "outputs": [],
   "source": [
    "class Student:\n",
    "    def __init__(self, id, name, major, gpa):\n",
    "        self.id = id\n",
    "        self.name = name\n",
    "        self.major = major\n",
    "        self.gpa = gpa\n",
    "        self.next = None\n",
    "\n",
    "    def __str__(self):\n",
    "        return f\"ID: {self.id}, Name: {self.name}, Major: {self.major}, GPA: {self.gpa:.2f}\""
   ]
  },
  {
   "cell_type": "code",
   "execution_count": 2,
   "metadata": {},
   "outputs": [],
   "source": [
    "class Node:\n",
    "    def __init__(self, data):\n",
    "        self.data = data\n",
    "        self.next = None"
   ]
  },
  {
   "cell_type": "code",
   "execution_count": 17,
   "metadata": {},
   "outputs": [],
   "source": [
    "class Student_LinkedList:\n",
    "    def __init__(self):\n",
    "        self.head = None\n",
    "        \n",
    "    def is_empty(self):\n",
    "        return self.head is None\n",
    "            \n",
    "    def add_student_first(self, id, name, major, gpa):\n",
    "        new_student = Student(id, name, major, gpa)\n",
    "        new_student.next = self.head\n",
    "        self.head = new_student\n",
    "        \n",
    "    def add_student_end(self, id, name, major, gpa):\n",
    "        new_student = Student(id, name, major, gpa)\n",
    "        if self.is_empty():\n",
    "            self.head = new_student\n",
    "            return\n",
    "        current = self.head\n",
    "        while current.next:\n",
    "            current = current.next\n",
    "        current.next = new_student\n",
    "\n",
    "    def add_student_after(self, target_id, id, name, major, gpa):\n",
    "        current = self.head\n",
    "        while current:\n",
    "            if current.id == target_id:\n",
    "                new_student = Student(id, name, major, gpa)\n",
    "                new_student.next = current.next\n",
    "                current.next = new_student\n",
    "                return\n",
    "            current = current.next\n",
    "        print(f\"Không tìm thấy sinh viên ID {target_id}\")\n",
    "\n",
    "    def display(self):\n",
    "        if self.is_empty():\n",
    "            print(\"Danh sách rỗng\")\n",
    "            return\n",
    "        current = self.head\n",
    "        while current:\n",
    "            print(current)\n",
    "            current = current.next\n",
    "\n",
    "    def search_id(self, id):\n",
    "        current = self.head\n",
    "        while current:\n",
    "            if current.id == id:\n",
    "                return current\n",
    "            current = current.next\n",
    "        return None\n",
    "\n",
    "    def update_student(self, id, name=None, major=None, gpa=None):\n",
    "        student = self.search_id(id)\n",
    "        if student:\n",
    "            if name:\n",
    "                student.name = name\n",
    "            if major:\n",
    "                student.major = major\n",
    "            if gpa is not None:\n",
    "                student.gpa = gpa\n",
    "            print(\"Cập nhật sinh viên thành công\")\n",
    "        else:\n",
    "            print(\"Không tìm thấy ID sinh viên\")\n",
    "\n",
    "    def remove_student_first(self):\n",
    "        if self.is_empty():\n",
    "            print(\"Danh sách rỗng, không thể xóa\")\n",
    "            return\n",
    "        self.head = self.head.next\n",
    "\n",
    "    def remove_student_end(self):\n",
    "        if self.is_empty():\n",
    "            print(\"Danh sách rỗng, không thể xóa\")\n",
    "            return\n",
    "        if self.head.next is None:\n",
    "            self.head = None\n",
    "            return\n",
    "        current = self.head\n",
    "        while current.next.next:\n",
    "            current = current.next\n",
    "        current.next = None\n",
    "\n",
    "    def remove_student_by_id(self, id):\n",
    "        if self.is_empty():\n",
    "            print(\"Danh sách rỗng, không thể xóa\")\n",
    "            return\n",
    "        if self.head.id == id:\n",
    "            self.head = self.head.next\n",
    "            return\n",
    "        current = self.head\n",
    "        while current.next and current.next.id != id:\n",
    "            current = current.next\n",
    "        if current.next:\n",
    "            current.next = current.next.next\n",
    "        else:\n",
    "            print(f\"Không tìm thấy sinh viên ID {id}\")\n",
    "\n",
    "    def sort_by_gpa(self, ascending=True):\n",
    "        if self.is_empty() or self.head.next is None:\n",
    "            return\n",
    "        sorted = False\n",
    "        while not sorted:\n",
    "            sorted = True\n",
    "            current = self.head\n",
    "            while current.next:\n",
    "                if (ascending and current.gpa > current.next.gpa) or \\\n",
    "                   (not ascending and current.gpa < current.next.gpa):\n",
    "                    current.gpa, current.next.gpa = current.next.gpa, current.gpa\n",
    "                    current.name, current.next.name = current.next.name, current.name\n",
    "                    current.id, current.next.id = current.next.id, current.id\n",
    "                    current.major, current.next.major = current.next.major, current.major\n",
    "                    sorted = False\n",
    "                current = current.next\n",
    "\n",
    "    def find_highest_lowest_gpa(self):\n",
    "        if self.is_empty():\n",
    "            return None, None\n",
    "        highest = lowest = self.head\n",
    "        current = self.head\n",
    "        while current:\n",
    "            if current.gpa > highest.gpa:\n",
    "                highest = current\n",
    "            if current.gpa < lowest.gpa:\n",
    "                lowest = current\n",
    "            current = current.next\n",
    "        return highest, lowest\n",
    "\n",
    "    def generate_major_report(self):\n",
    "        major_count = {}\n",
    "        current = self.head\n",
    "        while current:\n",
    "            major_count[current.major] = major_count.get(current.major, 0) + 1\n",
    "            current = current.next\n",
    "        return major_count\n",
    "\n",
    "    def save_to_file(self, filename):\n",
    "        with open(filename, 'w') as f:\n",
    "            current = self.head\n",
    "            while current:\n",
    "                f.write(f\"{current.id},{current.name},{current.major},{current.gpa}\\n\")\n",
    "                current = current.next\n",
    "\n",
    "    def load_from_file(self, filename):\n",
    "        self.head = None\n",
    "        try:\n",
    "            with open(filename, 'r') as f:\n",
    "                for line in f:\n",
    "                    id, name, major, gpa = line.strip().split(',')\n",
    "                    self.add_student_end(id, name, major, float(gpa))\n",
    "        except FileNotFoundError:\n",
    "            print(\"Không tìm thấy file\")\n",
    "\n",
    "    def total_students(self):\n",
    "        count = 0\n",
    "        current = self.head\n",
    "        while current:\n",
    "            count += 1\n",
    "            current = current.next\n",
    "        return count"
   ]
  },
  {
   "cell_type": "code",
   "execution_count": 18,
   "metadata": {},
   "outputs": [],
   "source": [
    "ds = Student_LinkedList()"
   ]
  },
  {
   "cell_type": "code",
   "execution_count": 19,
   "metadata": {},
   "outputs": [],
   "source": [
    "ds.add_student_first(1, \"Nguyen Van A\", \"IT\", 3.5)\n",
    "ds.add_student_first(2, \"Le Thi B\", \"Business\", 3.8)\n",
    "ds.add_student_end(4, \"Tran Van C\", \"IT\", 2.9)\n",
    "ds.add_student_end(5, \"Pham D\", \"Marketing\", 3.2)\n",
    "ds.add_student_after(1, 3, \"Le Van C\", \"IT\", 2.5)"
   ]
  },
  {
   "cell_type": "code",
   "execution_count": 20,
   "metadata": {},
   "outputs": [
    {
     "name": "stdout",
     "output_type": "stream",
     "text": [
      "ID: 2, Name: Le Thi B, Major: Business, GPA: 3.80\n",
      "ID: 1, Name: Nguyen Van A, Major: IT, GPA: 3.50\n",
      "ID: 3, Name: Le Van C, Major: IT, GPA: 2.50\n",
      "ID: 4, Name: Tran Van C, Major: IT, GPA: 2.90\n",
      "ID: 5, Name: Pham D, Major: Marketing, GPA: 3.20\n"
     ]
    }
   ],
   "source": [
    "ds.display()"
   ]
  },
  {
   "cell_type": "code",
   "execution_count": 21,
   "metadata": {},
   "outputs": [
    {
     "name": "stdout",
     "output_type": "stream",
     "text": [
      "ID: 2, Name: Le Thi B, Major: Business, GPA: 3.80\n"
     ]
    }
   ],
   "source": [
    "print(ds.search_id(2))"
   ]
  },
  {
   "cell_type": "code",
   "execution_count": 22,
   "metadata": {},
   "outputs": [
    {
     "name": "stdout",
     "output_type": "stream",
     "text": [
      "Cập nhật sinh viên thành công\n",
      "ID: 2, Name: Dang Ngoc Hoa (Updated), Major: Business, GPA: 3.80\n",
      "ID: 1, Name: Nguyen Van A, Major: IT, GPA: 3.50\n",
      "ID: 3, Name: Le Van C, Major: IT, GPA: 2.50\n",
      "ID: 4, Name: Tran Van C, Major: IT, GPA: 2.90\n",
      "ID: 5, Name: Pham D, Major: Marketing, GPA: 3.20\n"
     ]
    }
   ],
   "source": [
    "ds.update_student(2, name = \"Dang Ngoc Hoa (Updated)\", gpa = 3.8)\n",
    "ds.display()"
   ]
  },
  {
   "cell_type": "code",
   "execution_count": 23,
   "metadata": {},
   "outputs": [
    {
     "name": "stdout",
     "output_type": "stream",
     "text": [
      "ID: 1, Name: Nguyen Van A, Major: IT, GPA: 3.50\n",
      "ID: 3, Name: Le Van C, Major: IT, GPA: 2.50\n",
      "ID: 4, Name: Tran Van C, Major: IT, GPA: 2.90\n",
      "ID: 5, Name: Pham D, Major: Marketing, GPA: 3.20\n"
     ]
    }
   ],
   "source": [
    "ds.remove_student_first()\n",
    "ds.display()"
   ]
  },
  {
   "cell_type": "code",
   "execution_count": 24,
   "metadata": {},
   "outputs": [
    {
     "name": "stdout",
     "output_type": "stream",
     "text": [
      "ID: 1, Name: Nguyen Van A, Major: IT, GPA: 3.50\n",
      "ID: 3, Name: Le Van C, Major: IT, GPA: 2.50\n",
      "ID: 4, Name: Tran Van C, Major: IT, GPA: 2.90\n"
     ]
    }
   ],
   "source": [
    "ds.remove_student_end()\n",
    "ds.display()"
   ]
  },
  {
   "cell_type": "code",
   "execution_count": 25,
   "metadata": {},
   "outputs": [
    {
     "name": "stdout",
     "output_type": "stream",
     "text": [
      "ID: 1, Name: Nguyen Van A, Major: IT, GPA: 3.50\n",
      "ID: 4, Name: Tran Van C, Major: IT, GPA: 2.90\n"
     ]
    }
   ],
   "source": [
    "ds.remove_student_by_id(3)\n",
    "ds.display()"
   ]
  },
  {
   "cell_type": "code",
   "execution_count": 26,
   "metadata": {},
   "outputs": [
    {
     "name": "stdout",
     "output_type": "stream",
     "text": [
      "ID: 4, Name: Tran Van C, Major: IT, GPA: 2.90\n",
      "ID: 1, Name: Nguyen Van A, Major: IT, GPA: 3.50\n"
     ]
    }
   ],
   "source": [
    "ds.sort_by_gpa(ascending=True)\n",
    "ds.display()"
   ]
  },
  {
   "cell_type": "code",
   "execution_count": 27,
   "metadata": {},
   "outputs": [
    {
     "name": "stdout",
     "output_type": "stream",
     "text": [
      "Cao nhất:  ID: 1, Name: Nguyen Van A, Major: IT, GPA: 3.50\n",
      "Thấp nhất:  ID: 4, Name: Tran Van C, Major: IT, GPA: 2.90\n"
     ]
    }
   ],
   "source": [
    "highest, lowest = ds.find_highest_lowest_gpa()\n",
    "print(\"Cao nhất: \", highest)\n",
    "print(\"Thấp nhất: \", lowest)"
   ]
  },
  {
   "cell_type": "code",
   "execution_count": 28,
   "metadata": {},
   "outputs": [
    {
     "name": "stdout",
     "output_type": "stream",
     "text": [
      "{'IT': 2}\n"
     ]
    }
   ],
   "source": [
    "print(ds.generate_major_report())"
   ]
  },
  {
   "cell_type": "code",
   "execution_count": 30,
   "metadata": {},
   "outputs": [],
   "source": [
    "ds.load_from_file(\"students.txt\")"
   ]
  },
  {
   "cell_type": "code",
   "execution_count": 29,
   "metadata": {},
   "outputs": [
    {
     "name": "stdout",
     "output_type": "stream",
     "text": [
      "ID: 4, Name: Tran Van C, Major: IT, GPA: 2.90\n",
      "ID: 1, Name: Nguyen Van A, Major: IT, GPA: 3.50\n"
     ]
    }
   ],
   "source": [
    "ds.save_to_file(\"students.txt\")\n",
    "ds.display()"
   ]
  },
  {
   "cell_type": "code",
   "execution_count": 31,
   "metadata": {},
   "outputs": [
    {
     "name": "stdout",
     "output_type": "stream",
     "text": [
      "2\n"
     ]
    }
   ],
   "source": [
    "print(ds.total_students())"
   ]
  }
 ],
 "metadata": {
  "kernelspec": {
   "display_name": "Python 3",
   "language": "python",
   "name": "python3"
  },
  "language_info": {
   "codemirror_mode": {
    "name": "ipython",
    "version": 3
   },
   "file_extension": ".py",
   "mimetype": "text/x-python",
   "name": "python",
   "nbconvert_exporter": "python",
   "pygments_lexer": "ipython3",
   "version": "3.13.2"
  }
 },
 "nbformat": 4,
 "nbformat_minor": 4
}
